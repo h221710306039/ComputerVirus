{
 "cells": [
  {
   "cell_type": "markdown",
   "id": "f648bbb0",
   "metadata": {},
   "source": [
    "### Importing Packages\n",
    "importing libraries for data processing, visualization and manipulation"
   ]
  },
  {
   "cell_type": "code",
   "execution_count": 42,
   "id": "a497a5e5",
   "metadata": {},
   "outputs": [],
   "source": [
    "import pandas as pd\n",
    "import seaborn as sns\n",
    "import  numpy as np\n",
    "\n",
    "import warnings\n",
    "warnings.filterwarnings(\"ignore\")\n",
    "import matplotlib.pyplot as plt"
   ]
  },
  {
   "cell_type": "code",
   "execution_count": null,
   "id": "77405e51",
   "metadata": {},
   "outputs": [],
   "source": []
  },
  {
   "cell_type": "markdown",
   "id": "3fd21e57",
   "metadata": {},
   "source": [
    "## Reading Data\n",
    "Reading data from local directory"
   ]
  },
  {
   "cell_type": "code",
   "execution_count": 41,
   "id": "a132701b",
   "metadata": {},
   "outputs": [],
   "source": [
    "df = pd.read_csv(\"data602_exam.csv\")"
   ]
  },
  {
   "cell_type": "markdown",
   "id": "f79a52c5",
   "metadata": {},
   "source": [
    "### Data has Rows=4999 and Columns=1805"
   ]
  },
  {
   "cell_type": "code",
   "execution_count": 3,
   "id": "694f5b51",
   "metadata": {},
   "outputs": [
    {
     "data": {
      "text/plain": [
       "(4999, 1805)"
      ]
     },
     "execution_count": 3,
     "metadata": {},
     "output_type": "execute_result"
    }
   ],
   "source": [
    "df.shape"
   ]
  },
  {
   "cell_type": "markdown",
   "id": "ce71873c",
   "metadata": {},
   "source": [
    "### Below we can see the Statistical info about the data"
   ]
  },
  {
   "cell_type": "code",
   "execution_count": 4,
   "id": "ef7314d0",
   "metadata": {},
   "outputs": [
    {
     "data": {
      "text/html": [
       "<div>\n",
       "<style scoped>\n",
       "    .dataframe tbody tr th:only-of-type {\n",
       "        vertical-align: middle;\n",
       "    }\n",
       "\n",
       "    .dataframe tbody tr th {\n",
       "        vertical-align: top;\n",
       "    }\n",
       "\n",
       "    .dataframe thead th {\n",
       "        text-align: right;\n",
       "    }\n",
       "</style>\n",
       "<table border=\"1\" class=\"dataframe\">\n",
       "  <thead>\n",
       "    <tr style=\"text-align: right;\">\n",
       "      <th></th>\n",
       "      <th>Virtual</th>\n",
       "      <th>Offset</th>\n",
       "      <th>loc</th>\n",
       "      <th>Import</th>\n",
       "      <th>Imports</th>\n",
       "      <th>var</th>\n",
       "      <th>Forwarder</th>\n",
       "      <th>UINT</th>\n",
       "      <th>LONG</th>\n",
       "      <th>BOOL</th>\n",
       "      <th>...</th>\n",
       "      <th>Img99</th>\n",
       "      <th>Img100</th>\n",
       "      <th>Img101</th>\n",
       "      <th>Img102</th>\n",
       "      <th>Img103</th>\n",
       "      <th>Img104</th>\n",
       "      <th>Img105</th>\n",
       "      <th>Img106</th>\n",
       "      <th>Img107</th>\n",
       "      <th>target</th>\n",
       "    </tr>\n",
       "  </thead>\n",
       "  <tbody>\n",
       "    <tr>\n",
       "      <th>count</th>\n",
       "      <td>4999.000000</td>\n",
       "      <td>4999.000000</td>\n",
       "      <td>4999.000000</td>\n",
       "      <td>4999.000000</td>\n",
       "      <td>4999.000000</td>\n",
       "      <td>4999.000000</td>\n",
       "      <td>4999.000000</td>\n",
       "      <td>4999.000000</td>\n",
       "      <td>4999.000000</td>\n",
       "      <td>4999.000000</td>\n",
       "      <td>...</td>\n",
       "      <td>4999.000000</td>\n",
       "      <td>4999.000000</td>\n",
       "      <td>4999.000000</td>\n",
       "      <td>4999.000000</td>\n",
       "      <td>4999.000000</td>\n",
       "      <td>4999.000000</td>\n",
       "      <td>4999.000000</td>\n",
       "      <td>4999.000000</td>\n",
       "      <td>4999.000000</td>\n",
       "      <td>4999.000000</td>\n",
       "    </tr>\n",
       "    <tr>\n",
       "      <th>mean</th>\n",
       "      <td>2413.316145</td>\n",
       "      <td>2659.311487</td>\n",
       "      <td>4424.891220</td>\n",
       "      <td>2291.214822</td>\n",
       "      <td>2512.272757</td>\n",
       "      <td>3470.164710</td>\n",
       "      <td>2612.176503</td>\n",
       "      <td>2472.228927</td>\n",
       "      <td>2554.660865</td>\n",
       "      <td>2452.442360</td>\n",
       "      <td>...</td>\n",
       "      <td>14331.213118</td>\n",
       "      <td>9358.953517</td>\n",
       "      <td>23654.548237</td>\n",
       "      <td>8540.786955</td>\n",
       "      <td>17432.020184</td>\n",
       "      <td>22032.274639</td>\n",
       "      <td>9505.453675</td>\n",
       "      <td>70574.781259</td>\n",
       "      <td>54803.742148</td>\n",
       "      <td>4.086817</td>\n",
       "    </tr>\n",
       "    <tr>\n",
       "      <th>std</th>\n",
       "      <td>12506.374487</td>\n",
       "      <td>13159.966494</td>\n",
       "      <td>13604.624599</td>\n",
       "      <td>11996.827931</td>\n",
       "      <td>12656.467627</td>\n",
       "      <td>12442.838259</td>\n",
       "      <td>13026.935701</td>\n",
       "      <td>12695.076990</td>\n",
       "      <td>12533.327183</td>\n",
       "      <td>12280.398873</td>\n",
       "      <td>...</td>\n",
       "      <td>108685.996366</td>\n",
       "      <td>107161.612891</td>\n",
       "      <td>109735.456647</td>\n",
       "      <td>105281.088434</td>\n",
       "      <td>107423.247504</td>\n",
       "      <td>109858.578170</td>\n",
       "      <td>106876.987983</td>\n",
       "      <td>67871.038272</td>\n",
       "      <td>53395.251409</td>\n",
       "      <td>2.677785</td>\n",
       "    </tr>\n",
       "    <tr>\n",
       "      <th>min</th>\n",
       "      <td>0.000000</td>\n",
       "      <td>0.000000</td>\n",
       "      <td>0.000000</td>\n",
       "      <td>0.000000</td>\n",
       "      <td>0.000000</td>\n",
       "      <td>0.000000</td>\n",
       "      <td>0.000000</td>\n",
       "      <td>0.000000</td>\n",
       "      <td>0.000000</td>\n",
       "      <td>0.000000</td>\n",
       "      <td>...</td>\n",
       "      <td>-399471.378431</td>\n",
       "      <td>-344924.897141</td>\n",
       "      <td>-348906.065760</td>\n",
       "      <td>-379757.698729</td>\n",
       "      <td>-345576.170139</td>\n",
       "      <td>-410986.193796</td>\n",
       "      <td>-355679.953652</td>\n",
       "      <td>0.000000</td>\n",
       "      <td>0.000000</td>\n",
       "      <td>1.000000</td>\n",
       "    </tr>\n",
       "    <tr>\n",
       "      <th>25%</th>\n",
       "      <td>3.000000</td>\n",
       "      <td>3.000000</td>\n",
       "      <td>77.000000</td>\n",
       "      <td>6.000000</td>\n",
       "      <td>4.000000</td>\n",
       "      <td>37.000000</td>\n",
       "      <td>2.000000</td>\n",
       "      <td>6.000000</td>\n",
       "      <td>0.000000</td>\n",
       "      <td>13.000000</td>\n",
       "      <td>...</td>\n",
       "      <td>-57945.624535</td>\n",
       "      <td>-63567.620933</td>\n",
       "      <td>-50475.672159</td>\n",
       "      <td>-63194.878910</td>\n",
       "      <td>-55114.830841</td>\n",
       "      <td>-50016.264131</td>\n",
       "      <td>-63550.766114</td>\n",
       "      <td>13387.000000</td>\n",
       "      <td>8117.000000</td>\n",
       "      <td>2.000000</td>\n",
       "    </tr>\n",
       "    <tr>\n",
       "      <th>50%</th>\n",
       "      <td>3.000000</td>\n",
       "      <td>3.000000</td>\n",
       "      <td>526.000000</td>\n",
       "      <td>12.000000</td>\n",
       "      <td>4.000000</td>\n",
       "      <td>407.000000</td>\n",
       "      <td>4.000000</td>\n",
       "      <td>12.000000</td>\n",
       "      <td>5.000000</td>\n",
       "      <td>20.000000</td>\n",
       "      <td>...</td>\n",
       "      <td>13494.353190</td>\n",
       "      <td>9797.650967</td>\n",
       "      <td>22385.687582</td>\n",
       "      <td>10410.067259</td>\n",
       "      <td>18424.422329</td>\n",
       "      <td>21454.161075</td>\n",
       "      <td>9709.062906</td>\n",
       "      <td>67890.000000</td>\n",
       "      <td>49865.000000</td>\n",
       "      <td>3.000000</td>\n",
       "    </tr>\n",
       "    <tr>\n",
       "      <th>75%</th>\n",
       "      <td>4.000000</td>\n",
       "      <td>4.000000</td>\n",
       "      <td>1977.500000</td>\n",
       "      <td>18.000000</td>\n",
       "      <td>7.000000</td>\n",
       "      <td>1330.500000</td>\n",
       "      <td>6.000000</td>\n",
       "      <td>18.000000</td>\n",
       "      <td>9.000000</td>\n",
       "      <td>38.000000</td>\n",
       "      <td>...</td>\n",
       "      <td>87246.586847</td>\n",
       "      <td>82454.969088</td>\n",
       "      <td>95044.827729</td>\n",
       "      <td>80084.458079</td>\n",
       "      <td>87543.264657</td>\n",
       "      <td>96288.509357</td>\n",
       "      <td>82107.827536</td>\n",
       "      <td>88771.000000</td>\n",
       "      <td>68589.500000</td>\n",
       "      <td>6.000000</td>\n",
       "    </tr>\n",
       "    <tr>\n",
       "      <th>max</th>\n",
       "      <td>99416.349008</td>\n",
       "      <td>99973.742656</td>\n",
       "      <td>107775.000000</td>\n",
       "      <td>99364.479576</td>\n",
       "      <td>99838.164777</td>\n",
       "      <td>100278.830725</td>\n",
       "      <td>99673.225000</td>\n",
       "      <td>100002.864718</td>\n",
       "      <td>99039.014532</td>\n",
       "      <td>99262.954988</td>\n",
       "      <td>...</td>\n",
       "      <td>500390.536696</td>\n",
       "      <td>358149.487611</td>\n",
       "      <td>465889.867881</td>\n",
       "      <td>364890.436486</td>\n",
       "      <td>389119.972128</td>\n",
       "      <td>443685.869973</td>\n",
       "      <td>437127.690431</td>\n",
       "      <td>412076.355373</td>\n",
       "      <td>300241.000000</td>\n",
       "      <td>9.000000</td>\n",
       "    </tr>\n",
       "  </tbody>\n",
       "</table>\n",
       "<p>8 rows × 1805 columns</p>\n",
       "</div>"
      ],
      "text/plain": [
       "            Virtual        Offset            loc        Import       Imports  \\\n",
       "count   4999.000000   4999.000000    4999.000000   4999.000000   4999.000000   \n",
       "mean    2413.316145   2659.311487    4424.891220   2291.214822   2512.272757   \n",
       "std    12506.374487  13159.966494   13604.624599  11996.827931  12656.467627   \n",
       "min        0.000000      0.000000       0.000000      0.000000      0.000000   \n",
       "25%        3.000000      3.000000      77.000000      6.000000      4.000000   \n",
       "50%        3.000000      3.000000     526.000000     12.000000      4.000000   \n",
       "75%        4.000000      4.000000    1977.500000     18.000000      7.000000   \n",
       "max    99416.349008  99973.742656  107775.000000  99364.479576  99838.164777   \n",
       "\n",
       "                 var     Forwarder           UINT          LONG          BOOL  \\\n",
       "count    4999.000000   4999.000000    4999.000000   4999.000000   4999.000000   \n",
       "mean     3470.164710   2612.176503    2472.228927   2554.660865   2452.442360   \n",
       "std     12442.838259  13026.935701   12695.076990  12533.327183  12280.398873   \n",
       "min         0.000000      0.000000       0.000000      0.000000      0.000000   \n",
       "25%        37.000000      2.000000       6.000000      0.000000     13.000000   \n",
       "50%       407.000000      4.000000      12.000000      5.000000     20.000000   \n",
       "75%      1330.500000      6.000000      18.000000      9.000000     38.000000   \n",
       "max    100278.830725  99673.225000  100002.864718  99039.014532  99262.954988   \n",
       "\n",
       "       ...          Img99         Img100         Img101         Img102  \\\n",
       "count  ...    4999.000000    4999.000000    4999.000000    4999.000000   \n",
       "mean   ...   14331.213118    9358.953517   23654.548237    8540.786955   \n",
       "std    ...  108685.996366  107161.612891  109735.456647  105281.088434   \n",
       "min    ... -399471.378431 -344924.897141 -348906.065760 -379757.698729   \n",
       "25%    ...  -57945.624535  -63567.620933  -50475.672159  -63194.878910   \n",
       "50%    ...   13494.353190    9797.650967   22385.687582   10410.067259   \n",
       "75%    ...   87246.586847   82454.969088   95044.827729   80084.458079   \n",
       "max    ...  500390.536696  358149.487611  465889.867881  364890.436486   \n",
       "\n",
       "              Img103         Img104         Img105         Img106  \\\n",
       "count    4999.000000    4999.000000    4999.000000    4999.000000   \n",
       "mean    17432.020184   22032.274639    9505.453675   70574.781259   \n",
       "std    107423.247504  109858.578170  106876.987983   67871.038272   \n",
       "min   -345576.170139 -410986.193796 -355679.953652       0.000000   \n",
       "25%    -55114.830841  -50016.264131  -63550.766114   13387.000000   \n",
       "50%     18424.422329   21454.161075    9709.062906   67890.000000   \n",
       "75%     87543.264657   96288.509357   82107.827536   88771.000000   \n",
       "max    389119.972128  443685.869973  437127.690431  412076.355373   \n",
       "\n",
       "              Img107       target  \n",
       "count    4999.000000  4999.000000  \n",
       "mean    54803.742148     4.086817  \n",
       "std     53395.251409     2.677785  \n",
       "min         0.000000     1.000000  \n",
       "25%      8117.000000     2.000000  \n",
       "50%     49865.000000     3.000000  \n",
       "75%     68589.500000     6.000000  \n",
       "max    300241.000000     9.000000  \n",
       "\n",
       "[8 rows x 1805 columns]"
      ]
     },
     "execution_count": 4,
     "metadata": {},
     "output_type": "execute_result"
    }
   ],
   "source": [
    "df.describe()"
   ]
  },
  {
   "cell_type": "markdown",
   "id": "ad904495",
   "metadata": {},
   "source": [
    "### We can see some of the features in the data sets"
   ]
  },
  {
   "cell_type": "code",
   "execution_count": 5,
   "id": "77e6a84a",
   "metadata": {},
   "outputs": [
    {
     "data": {
      "text/plain": [
       "Index(['Virtual', 'Offset', 'loc', 'Import', 'Imports', 'var', 'Forwarder',\n",
       "       'UINT', 'LONG', 'BOOL',\n",
       "       ...\n",
       "       'Img99', 'Img100', 'Img101', 'Img102', 'Img103', 'Img104', 'Img105',\n",
       "       'Img106', 'Img107', 'target'],\n",
       "      dtype='object', length=1805)"
      ]
     },
     "execution_count": 5,
     "metadata": {},
     "output_type": "execute_result"
    }
   ],
   "source": [
    "df.columns"
   ]
  },
  {
   "cell_type": "markdown",
   "id": "b8deaa0b",
   "metadata": {},
   "source": [
    "### The dataset has only Numeric Features"
   ]
  },
  {
   "cell_type": "code",
   "execution_count": 6,
   "id": "fe5a0510",
   "metadata": {},
   "outputs": [
    {
     "data": {
      "text/plain": [
       "array([dtype('float64'), dtype('int64')], dtype=object)"
      ]
     },
     "execution_count": 6,
     "metadata": {},
     "output_type": "execute_result"
    }
   ],
   "source": [
    "df.dtypes.unique()"
   ]
  },
  {
   "cell_type": "markdown",
   "id": "97f33780",
   "metadata": {},
   "source": [
    "### We can see that there is no null values present in the data\n"
   ]
  },
  {
   "cell_type": "code",
   "execution_count": 7,
   "id": "b8f96658",
   "metadata": {},
   "outputs": [
    {
     "data": {
      "text/plain": [
       "0"
      ]
     },
     "execution_count": 7,
     "metadata": {},
     "output_type": "execute_result"
    }
   ],
   "source": [
    "df.isna().sum().sum()"
   ]
  },
  {
   "cell_type": "markdown",
   "id": "f54e803f",
   "metadata": {},
   "source": [
    "### As there are multiple columns it is difficult to get info using corr plot."
   ]
  },
  {
   "cell_type": "code",
   "execution_count": 8,
   "id": "2001659d",
   "metadata": {},
   "outputs": [
    {
     "data": {
      "text/plain": [
       "<AxesSubplot:>"
      ]
     },
     "execution_count": 8,
     "metadata": {},
     "output_type": "execute_result"
    },
    {
     "data": {
      "image/png": "[encoded data removed]",
      "text/plain": [
       "<Figure size 432x288 with 2 Axes>"
      ]
     },
     "metadata": {
      "needs_background": "light"
     },
     "output_type": "display_data"
    }
   ],
   "source": [
    "sns.heatmap(df.corr())"
   ]
  },
  {
   "cell_type": "markdown",
   "id": "261bcb24",
   "metadata": {},
   "source": [
    "### Split data for further Modeling"
   ]
  },
  {
   "cell_type": "code",
   "execution_count": 9,
   "id": "182b8e69",
   "metadata": {},
   "outputs": [],
   "source": [
    "from sklearn.model_selection import train_test_split"
   ]
  },
  {
   "cell_type": "code",
   "execution_count": 10,
   "id": "c825bf18",
   "metadata": {},
   "outputs": [],
   "source": [
    "X = df.drop(columns = ['target'])\n",
    "Y = df['target']\n",
    "X_train, X_test, y_train, y_test = train_test_split(X, Y, test_size = 0.3)"
   ]
  },
  {
   "cell_type": "markdown",
   "id": "45a52870",
   "metadata": {},
   "source": [
    "### Looking at the distribution of EDX registry Vs malware\n",
    "Where distibution seems even"
   ]
  },
  {
   "cell_type": "code",
   "execution_count": 11,
   "id": "a4682c65",
   "metadata": {},
   "outputs": [
    {
     "data": {
      "text/plain": [
       "<matplotlib.collections.PathCollection at 0x239a02d4790>"
      ]
     },
     "execution_count": 11,
     "metadata": {},
     "output_type": "execute_result"
    },
    {
     "data": {
      "image/png": "[encoded data removed]",
      "text/plain": [
       "<Figure size 1080x1080 with 1 Axes>"
      ]
     },
     "metadata": {
      "needs_background": "light"
     },
     "output_type": "display_data"
    }
   ],
   "source": [
    "plt.figure(figsize=(15,15))\n",
    "plt.xlabel(\"EDX Register\")\n",
    "plt.ylabel(\"Malware Class\")\n",
    "xa = np.array(X['edx'])\n",
    "xb = np.array(X['esi'])\n",
    "ya = np.array(Y)\n",
    "plt.scatter(xa,ya,c=ya,cmap='brg')\n"
   ]
  },
  {
   "cell_type": "markdown",
   "id": "a9c69f4b",
   "metadata": {},
   "source": [
    "# Lets create multiple model which fits the best"
   ]
  },
  {
   "cell_type": "markdown",
   "id": "92fd5213",
   "metadata": {},
   "source": [
    "# Logistic Regression"
   ]
  },
  {
   "cell_type": "markdown",
   "id": "b943b7f0",
   "metadata": {},
   "source": [
    "## As we can see below if we directly inject data to the model it gives poor result"
   ]
  },
  {
   "cell_type": "code",
   "execution_count": 12,
   "id": "e8a2ecf5",
   "metadata": {},
   "outputs": [],
   "source": [
    "from sklearn.linear_model import LogisticRegression\n",
    "model = LogisticRegression()"
   ]
  },
  {
   "cell_type": "code",
   "execution_count": 13,
   "id": "e2cc53ce",
   "metadata": {},
   "outputs": [
    {
     "data": {
      "text/plain": [
       "LogisticRegression()"
      ]
     },
     "execution_count": 13,
     "metadata": {},
     "output_type": "execute_result"
    }
   ],
   "source": [
    "model.fit(X_train, y_train)"
   ]
  },
  {
   "cell_type": "code",
   "execution_count": 14,
   "id": "e588dfdc",
   "metadata": {},
   "outputs": [
    {
     "name": "stdout",
     "output_type": "stream",
     "text": [
      "Accuracy:  53.0\n"
     ]
    }
   ],
   "source": [
    "print(\"Accuracy: \", model.score(X_test, y_test) * 100)"
   ]
  },
  {
   "cell_type": "code",
   "execution_count": null,
   "id": "b53b6444",
   "metadata": {},
   "outputs": [],
   "source": []
  },
  {
   "cell_type": "markdown",
   "id": "0bd8a4c6",
   "metadata": {},
   "source": [
    "## Here is how I have observed the features\n",
    "<b>keywords</b> = ```['Virtual', 'Offset', 'loc', 'Import', 'Imports', 'var', 'Forwarder', 'UINT', 'LONG', 'BOOL', 'WORD',\n",
    "            'BYTES', 'large', 'short', 'dd', 'db', 'dw', 'XREF', 'ptr', 'DATA', 'FUNCTION', 'extrn', 'byte', 'word',\n",
    "            'dword', 'char', 'DWORD', 'stdcall', 'arg', 'locret', 'asc', 'align', 'WinMain', 'unk', 'cookie', 'off',\n",
    "            'nullsub', 'DllEntryPoint', 'System32', 'dll', 'CHUNK', 'BASS', 'HMENU', 'DLL', 'LPWSTR', 'void', 'HRESULT',\n",
    "            'HDC', 'LRESULT', 'HANDLE', 'HWND', 'LPSTR', 'int', 'HLOCAL', 'FARPROC', 'ATOM', 'HMODULE', 'WPARAM',\n",
    "            'HGLOBAL', 'entry', 'rva', 'COLLAPSED', 'config', 'exe', 'Software', 'CurrentVersion', '__imp_', 'INT_PTR',\n",
    "            'UINT_PTR', '---Seperator', 'PCCTL_CONTEXT', '__IMPORT_', 'INTERNET_STATUS_CALLBACK', '.rdata:', '.data:',\n",
    "            '.text:', 'case', 'installdir', 'market', 'microsoft', 'policies', 'proc', 'scrollwindow', 'search', 'trap',\n",
    "            'visualc', '___security_cookie', 'assume', 'callvirtualalloc', 'exportedentry', 'hardware',\n",
    "            'hkey_current_user', 'hkey_local_machine', 'sp-analysisfailed', 'unableto']```\n",
    "\n",
    "<b>registers</b> = ```['edx', 'esi', 'es', 'fs', 'ds', 'ss', 'gs', 'cs', 'ah', 'al',\n",
    "             'ax', 'bh', 'bl', 'bx', 'ch', 'cl', 'cx', 'dh', 'dl', 'dx',\n",
    "             'eax', 'ebp', 'ebx', 'ecx', 'edi', 'esp']```\n",
    "\n",
    "<b>opcodes</b> = ```['add', 'al', 'bt', 'call', 'cdq', 'cld', 'cli', 'cmc', 'cmp', 'const', 'cwd', 'daa', 'db'\n",
    "    , 'dd', 'dec', 'dw', 'endp', 'ends', 'faddp', 'fchs', 'fdiv', 'fdivp', 'fdivr', 'fild'\n",
    "    , 'fistp', 'fld', 'fstcw', 'fstcwimul', 'fstp', 'fword', 'fxch', 'imul', 'in', 'inc'\n",
    "    , 'ins', 'int', 'jb', 'je', 'jg', 'jge', 'jl', 'jmp', 'jnb', 'jno', 'jnz', 'jo', 'jz'\n",
    "    , 'lea', 'loope', 'mov', 'movzx', 'mul', 'near', 'neg', 'not', 'or', 'out', 'outs'\n",
    "    , 'pop', 'popf', 'proc', 'push', 'pushf', 'rcl', 'rcr', 'rdtsc', 'rep', 'ret', 'retn'\n",
    "    , 'rol', 'ror', 'sal', 'sar', 'sbb', 'scas', 'setb', 'setle', 'setnle', 'setnz'\n",
    "    , 'setz', 'shl', 'shld', 'shr', 'sidt', 'stc', 'std', 'sti', 'stos', 'sub', 'test'\n",
    "    , 'wait', 'xchg', 'xor']```"
   ]
  },
  {
   "cell_type": "code",
   "execution_count": null,
   "id": "b81df0e3",
   "metadata": {},
   "outputs": [],
   "source": []
  },
  {
   "cell_type": "markdown",
   "id": "e50055d8",
   "metadata": {},
   "source": [
    "## Features are the most important part of a model training as garbage in can result in garbage out.\n",
    "## We are using Random Forest to get the best features using its Feature importance functionality."
   ]
  },
  {
   "cell_type": "code",
   "execution_count": 15,
   "id": "525f3663",
   "metadata": {},
   "outputs": [],
   "source": [
    "from sklearn.ensemble import RandomForestClassifier"
   ]
  },
  {
   "cell_type": "code",
   "execution_count": 16,
   "id": "8e2c8d6f",
   "metadata": {},
   "outputs": [],
   "source": [
    "# from sklearn.ensemble._forest import ForestClassifier\n",
    "from sklearn.ensemble import RandomForestClassifier\n",
    "from sklearn.feature_selection import SelectFromModel"
   ]
  },
  {
   "cell_type": "code",
   "execution_count": 17,
   "id": "5d328ab8",
   "metadata": {},
   "outputs": [
    {
     "data": {
      "text/plain": [
       "SelectFromModel(estimator=RandomForestClassifier())"
      ]
     },
     "execution_count": 17,
     "metadata": {},
     "output_type": "execute_result"
    }
   ],
   "source": [
    "sel = SelectFromModel(RandomForestClassifier(n_estimators = 100))\n",
    "sel.fit(X_train, y_train)"
   ]
  },
  {
   "cell_type": "code",
   "execution_count": 18,
   "id": "f5fd6dee",
   "metadata": {},
   "outputs": [
    {
     "data": {
      "text/plain": [
       "array([False, False, False, ..., False,  True,  True])"
      ]
     },
     "execution_count": 18,
     "metadata": {},
     "output_type": "execute_result"
    }
   ],
   "source": [
    "sel.get_support()\n"
   ]
  },
  {
   "cell_type": "code",
   "execution_count": 19,
   "id": "c5ad9c17",
   "metadata": {},
   "outputs": [
    {
     "data": {
      "text/plain": [
       "448"
      ]
     },
     "execution_count": 19,
     "metadata": {},
     "output_type": "execute_result"
    }
   ],
   "source": [
    "selected_feat= X_train.columns[(sel.get_support())]\n",
    "len(selected_feat)"
   ]
  },
  {
   "cell_type": "code",
   "execution_count": 20,
   "id": "7e4cbf2c",
   "metadata": {},
   "outputs": [
    {
     "name": "stdout",
     "output_type": "stream",
     "text": [
      "Index(['Import', 'Imports', 'var', 'BOOL', 'BYTES', 'short', 'dd', 'db',\n",
      "       'XREF', 'ptr',\n",
      "       ...\n",
      "       'Img50', 'Img51', 'line_count_asm', 'size_asm', 'Plus', 'Bracket_Open',\n",
      "       'ExtendedAscii', 'Img0.1', 'Img106', 'Img107'],\n",
      "      dtype='object', length=448)\n"
     ]
    }
   ],
   "source": [
    "print(selected_feat)"
   ]
  },
  {
   "cell_type": "code",
   "execution_count": 21,
   "id": "681ff509",
   "metadata": {},
   "outputs": [
    {
     "data": {
      "text/plain": [
       "SelectFromModel(estimator=RandomForestClassifier())"
      ]
     },
     "execution_count": 21,
     "metadata": {},
     "output_type": "execute_result"
    }
   ],
   "source": [
    "sel"
   ]
  },
  {
   "cell_type": "code",
   "execution_count": 22,
   "id": "093c4aa0",
   "metadata": {},
   "outputs": [
    {
     "data": {
      "image/png": "[encoded data removed]",
      "text/plain": [
       "<Figure size 432x288 with 1 Axes>"
      ]
     },
     "metadata": {
      "needs_background": "light"
     },
     "output_type": "display_data"
    }
   ],
   "source": [
    "importances = sel.estimator_.feature_importances_\n",
    "indices = np.argsort(importances)[::-1]\n",
    "# X is the train data used to fit the model \n",
    "plt.figure()\n",
    "plt.title(\"Feature importances\")\n",
    "plt.bar(range(X.shape[1]), importances[indices],\n",
    "       color=\"r\", align=\"center\")\n",
    "plt.xticks(range(X.shape[1]), indices)\n",
    "plt.xlim([-1, X.shape[1]])\n",
    "plt.show()"
   ]
  },
  {
   "cell_type": "markdown",
   "id": "320ff697",
   "metadata": {},
   "source": [
    "## Using the `SelectFromModel` funciton we have extracted 448 features outof 1805."
   ]
  },
  {
   "cell_type": "code",
   "execution_count": 45,
   "id": "7e317ef2",
   "metadata": {},
   "outputs": [
    {
     "data": {
      "text/plain": [
       "Index(['Import', 'Imports', 'var', 'BOOL', 'BYTES', 'short', 'dd', 'db',\n",
       "       'XREF', 'ptr',\n",
       "       ...\n",
       "       'Img50', 'Img51', 'line_count_asm', 'size_asm', 'Plus', 'Bracket_Open',\n",
       "       'ExtendedAscii', 'Img0.1', 'Img106', 'Img107'],\n",
       "      dtype='object', length=448)"
      ]
     },
     "execution_count": 45,
     "metadata": {},
     "output_type": "execute_result"
    }
   ],
   "source": [
    "selected_feat"
   ]
  },
  {
   "cell_type": "code",
   "execution_count": 23,
   "id": "8beccd4b",
   "metadata": {},
   "outputs": [],
   "source": [
    "df2 = df[selected_feat]\n",
    "X = df2\n",
    "Y = df['target']\n",
    "X_train, X_test, y_train, y_test = train_test_split(X, Y, test_size = 0.3)"
   ]
  },
  {
   "cell_type": "code",
   "execution_count": 24,
   "id": "d8966b5b",
   "metadata": {},
   "outputs": [],
   "source": [
    "from sklearn.preprocessing import StandardScaler\n",
    "sc = StandardScaler()\n",
    "X_train = sc.fit_transform(X_train)\n",
    "X_test = sc.transform(X_test)"
   ]
  },
  {
   "cell_type": "code",
   "execution_count": 25,
   "id": "edee6fda",
   "metadata": {},
   "outputs": [
    {
     "data": {
      "text/plain": [
       "LogisticRegression(random_state=0)"
      ]
     },
     "execution_count": 25,
     "metadata": {},
     "output_type": "execute_result"
    }
   ],
   "source": [
    "# Fitting Logistic Regression to the Training set\n",
    "from sklearn.linear_model import LogisticRegression\n",
    "classifier = LogisticRegression(random_state = 0, solver='lbfgs', multi_class='auto')\n",
    "classifier.fit(X_train, y_train)"
   ]
  },
  {
   "cell_type": "markdown",
   "id": "1fe0eb3a",
   "metadata": {},
   "source": [
    "## Here we can see that the Accuracy has increase but not that drastic, lets use more complex models"
   ]
  },
  {
   "cell_type": "code",
   "execution_count": 26,
   "id": "0ddcd1bb",
   "metadata": {},
   "outputs": [
    {
     "name": "stdout",
     "output_type": "stream",
     "text": [
      "Accuracy:  53.53333333333333\n"
     ]
    }
   ],
   "source": [
    "print(\"Accuracy: \", classifier.score(X_test, y_test) * 100)"
   ]
  },
  {
   "cell_type": "code",
   "execution_count": 27,
   "id": "9b60401f",
   "metadata": {},
   "outputs": [],
   "source": [
    "# Predicting the Test set results\n",
    "y_pred = classifier.predict(X_test)\n",
    "# Predict probabilities\n",
    "probs_y=classifier.predict_proba(X_test)\n",
    "### Print results \n",
    "probs_y = np.round(probs_y, 2)"
   ]
  },
  {
   "cell_type": "code",
   "execution_count": 28,
   "id": "cbe0cb6c",
   "metadata": {},
   "outputs": [
    {
     "name": "stdout",
     "output_type": "stream",
     "text": [
      "[[113  17  10  22   3   9   7  32   6]\n",
      " [ 23 199  11  14   5  17   6  16  30]\n",
      " [ 15   9 316  21   7  10  18   5   7]\n",
      " [  9   6   6  15   1   7   1  20   7]\n",
      " [  4   1   7   0   0   2   3   4   1]\n",
      " [ 13   9   9  11   1  30   3  17  24]\n",
      " [  6   1   8   1   0   3  22   6   4]\n",
      " [ 18  12   9  11   3  19   9  49  13]\n",
      " [ 16  19   2  11   3  10   7  20  59]]\n"
     ]
    }
   ],
   "source": [
    "from sklearn.metrics import confusion_matrix\n",
    "cm = confusion_matrix(y_test, y_pred)\n",
    "print(cm)"
   ]
  },
  {
   "cell_type": "code",
   "execution_count": 29,
   "id": "cb54d203",
   "metadata": {},
   "outputs": [
    {
     "data": {
      "image/png": "[encoded data removed]",
      "text/plain": [
       "<Figure size 432x288 with 2 Axes>"
      ]
     },
     "metadata": {
      "needs_background": "light"
     },
     "output_type": "display_data"
    }
   ],
   "source": [
    "# Plot confusion matrix\n",
    "import seaborn as sns\n",
    "import pandas as pd\n",
    "# confusion matrix sns heatmap \n",
    "ax = plt.axes()\n",
    "df_cm = cm\n",
    "sns.heatmap(df_cm, annot=True, annot_kws={\"size\": 10}, fmt='d',cmap=\"Blues\", ax = ax )\n",
    "ax.set_title('Confusion Matrix')\n",
    "plt.show()"
   ]
  },
  {
   "cell_type": "markdown",
   "id": "f5deb3d6",
   "metadata": {},
   "source": [
    "## RandomForest\n",
    "### Advantages :\n",
    "1) Its advantages over using a single decision tree are <br>\n",
    "    a) Random forest overcomes overfitting by averaging or combining the results of different decision trees.<br>\n",
    "    b) Random forest has less variance than a single decision tree and hence can work well for a larger range of data items than a single decision tree.\n",
    "\n",
    "2. Random forests are extremely flexible and have very high accuracy.\n",
    "\n",
    "3. Minimal preparation of the input data is required. \n",
    "    a. You do not have to scale the data.\n",
    "    b. It also maintains accuracy even when a large proportion of the data are missing.\n",
    "\n",
    "### Disadvantages:\n",
    "1) Complexity <br>\n",
    "</t> a) Modelling and prediction are both more time consuming than decision trees.<br>\n",
    "</t> b) Difficult to understand the relationship between data features as it is a large collection of decision trees.\n",
    "\n",
    "### Control for overfitting:\n",
    "1)Using more trees as defined via the n_estimators. The more trees we try, the less likely it is to overfit.<br>\n",
    "2)Using less features as defined via max_features which would allow a more general model to surface. Since we have 30 features, using no more than 20 would allow a more generalitic model to be created and hence allowing less overfitting.<br>\n",
    "3)Using smaller values of max_depth would also reduce overfitting.<br>\n",
    "4)The model performance was evaluated using an external dataset (a dataset that was not used for training)."
   ]
  },
  {
   "cell_type": "code",
   "execution_count": 30,
   "id": "811f9f56",
   "metadata": {},
   "outputs": [],
   "source": [
    "from sklearn.model_selection import train_test_split # to split the data\n",
    "from sklearn.metrics import accuracy_score, confusion_matrix, classification_report #To evaluate our model\n",
    "\n",
    "from sklearn.model_selection import GridSearchCV\n",
    "\n",
    "# We would be only trying random forest and GaussianNB\n",
    "from sklearn.ensemble import RandomForestClassifier\n",
    "\n",
    "from sklearn.preprocessing import LabelEncoder\n",
    "\n",
    "\n",
    "df2 = df[selected_feat]\n",
    "X = df2\n",
    "Y = df['target']\n",
    "X_train, X_test, y_train, y_test = train_test_split(X, Y, test_size = 0.3)\n"
   ]
  },
  {
   "cell_type": "markdown",
   "id": "e2d17e62",
   "metadata": {},
   "source": [
    "## Lets work on finding the best combination of hyper parameters <br> using Grid Search and Cross Validation"
   ]
  },
  {
   "cell_type": "code",
   "execution_count": 31,
   "id": "cc60fbf2",
   "metadata": {},
   "outputs": [
    {
     "name": "stdout",
     "output_type": "stream",
     "text": [
      "Fitting 5 folds for each of 96 candidates, totalling 480 fits\n",
      "[CV 1/5] END max_depth=3, max_features=4, n_estimators=3;, score=nan total time=   0.3s\n",
      "[CV 2/5] END max_depth=3, max_features=4, n_estimators=3;, score=nan total time=   0.0s\n",
      "[CV 3/5] END max_depth=3, max_features=4, n_estimators=3;, score=nan total time=   0.0s\n",
      "[CV 4/5] END max_depth=3, max_features=4, n_estimators=3;, score=nan total time=   0.0s\n",
      "[CV 5/5] END max_depth=3, max_features=4, n_estimators=3;, score=nan total time=   0.0s\n",
      "[CV 1/5] END max_depth=3, max_features=4, n_estimators=5;, score=nan total time=   0.0s\n",
      "[CV 2/5] END max_depth=3, max_features=4, n_estimators=5;, score=nan total time=   0.0s\n",
      "[CV 3/5] END max_depth=3, max_features=4, n_estimators=5;, score=nan total time=   0.0s\n",
      "[CV 4/5] END max_depth=3, max_features=4, n_estimators=5;, score=nan total time=   0.0s\n",
      "[CV 5/5] END max_depth=3, max_features=4, n_estimators=5;, score=nan total time=   0.0s\n",
      "[CV 1/5] END max_depth=3, max_features=4, n_estimators=10;, score=nan total time=   0.0s\n",
      "[CV 2/5] END max_depth=3, max_features=4, n_estimators=10;, score=nan total time=   0.1s\n",
      "[CV 3/5] END max_depth=3, max_features=4, n_estimators=10;, score=nan total time=   0.0s\n",
      "[CV 4/5] END max_depth=3, max_features=4, n_estimators=10;, score=nan total time=   0.0s\n",
      "[CV 5/5] END max_depth=3, max_features=4, n_estimators=10;, score=nan total time=   0.1s\n",
      "[CV 1/5] END max_depth=3, max_features=4, n_estimators=25;, score=nan total time=   0.3s\n",
      "[CV 2/5] END max_depth=3, max_features=4, n_estimators=25;, score=nan total time=   0.2s\n",
      "[CV 3/5] END max_depth=3, max_features=4, n_estimators=25;, score=nan total time=   0.2s\n",
      "[CV 4/5] END max_depth=3, max_features=4, n_estimators=25;, score=nan total time=   0.3s\n",
      "[CV 5/5] END max_depth=3, max_features=4, n_estimators=25;, score=nan total time=   0.2s\n",
      "[CV 1/5] END max_depth=3, max_features=4, n_estimators=50;, score=nan total time=   0.5s\n",
      "[CV 2/5] END max_depth=3, max_features=4, n_estimators=50;, score=nan total time=   0.4s\n",
      "[CV 3/5] END max_depth=3, max_features=4, n_estimators=50;, score=nan total time=   0.5s\n",
      "[CV 4/5] END max_depth=3, max_features=4, n_estimators=50;, score=nan total time=   0.6s\n",
      "[CV 5/5] END max_depth=3, max_features=4, n_estimators=50;, score=nan total time=   0.6s\n",
      "[CV 1/5] END max_depth=3, max_features=4, n_estimators=150;, score=nan total time=   1.8s\n",
      "[CV 2/5] END max_depth=3, max_features=4, n_estimators=150;, score=nan total time=   1.5s\n",
      "[CV 3/5] END max_depth=3, max_features=4, n_estimators=150;, score=nan total time=   1.4s\n",
      "[CV 4/5] END max_depth=3, max_features=4, n_estimators=150;, score=nan total time=   1.4s\n",
      "[CV 5/5] END max_depth=3, max_features=4, n_estimators=150;, score=nan total time=   1.4s\n",
      "[CV 1/5] END max_depth=3, max_features=7, n_estimators=3;, score=nan total time=   0.0s\n",
      "[CV 2/5] END max_depth=3, max_features=7, n_estimators=3;, score=nan total time=   0.0s\n",
      "[CV 3/5] END max_depth=3, max_features=7, n_estimators=3;, score=nan total time=   0.0s\n",
      "[CV 4/5] END max_depth=3, max_features=7, n_estimators=3;, score=nan total time=   0.0s\n",
      "[CV 5/5] END max_depth=3, max_features=7, n_estimators=3;, score=nan total time=   0.0s\n",
      "[CV 1/5] END max_depth=3, max_features=7, n_estimators=5;, score=nan total time=   0.0s\n",
      "[CV 2/5] END max_depth=3, max_features=7, n_estimators=5;, score=nan total time=   0.0s\n",
      "[CV 3/5] END max_depth=3, max_features=7, n_estimators=5;, score=nan total time=   0.0s\n",
      "[CV 4/5] END max_depth=3, max_features=7, n_estimators=5;, score=nan total time=   0.1s\n",
      "[CV 5/5] END max_depth=3, max_features=7, n_estimators=5;, score=nan total time=   0.1s\n",
      "[CV 1/5] END max_depth=3, max_features=7, n_estimators=10;, score=nan total time=   0.1s\n",
      "[CV 2/5] END max_depth=3, max_features=7, n_estimators=10;, score=nan total time=   0.1s\n",
      "[CV 3/5] END max_depth=3, max_features=7, n_estimators=10;, score=nan total time=   0.1s\n",
      "[CV 4/5] END max_depth=3, max_features=7, n_estimators=10;, score=nan total time=   0.1s\n",
      "[CV 5/5] END max_depth=3, max_features=7, n_estimators=10;, score=nan total time=   0.1s\n",
      "[CV 1/5] END max_depth=3, max_features=7, n_estimators=25;, score=nan total time=   0.2s\n",
      "[CV 2/5] END max_depth=3, max_features=7, n_estimators=25;, score=nan total time=   0.3s\n",
      "[CV 3/5] END max_depth=3, max_features=7, n_estimators=25;, score=nan total time=   0.3s\n",
      "[CV 4/5] END max_depth=3, max_features=7, n_estimators=25;, score=nan total time=   0.3s\n",
      "[CV 5/5] END max_depth=3, max_features=7, n_estimators=25;, score=nan total time=   0.3s\n",
      "[CV 1/5] END max_depth=3, max_features=7, n_estimators=50;, score=nan total time=   0.6s\n",
      "[CV 2/5] END max_depth=3, max_features=7, n_estimators=50;, score=nan total time=   0.7s\n",
      "[CV 3/5] END max_depth=3, max_features=7, n_estimators=50;, score=nan total time=   0.6s\n",
      "[CV 4/5] END max_depth=3, max_features=7, n_estimators=50;, score=nan total time=   0.6s\n",
      "[CV 5/5] END max_depth=3, max_features=7, n_estimators=50;, score=nan total time=   0.5s\n",
      "[CV 1/5] END max_depth=3, max_features=7, n_estimators=150;, score=nan total time=   2.0s\n",
      "[CV 2/5] END max_depth=3, max_features=7, n_estimators=150;, score=nan total time=   1.9s\n",
      "[CV 3/5] END max_depth=3, max_features=7, n_estimators=150;, score=nan total time=   1.9s\n",
      "[CV 4/5] END max_depth=3, max_features=7, n_estimators=150;, score=nan total time=   1.9s\n",
      "[CV 5/5] END max_depth=3, max_features=7, n_estimators=150;, score=nan total time=   1.7s\n",
      "[CV 1/5] END max_depth=3, max_features=15, n_estimators=3;, score=nan total time=   0.0s\n",
      "[CV 2/5] END max_depth=3, max_features=15, n_estimators=3;, score=nan total time=   0.0s\n",
      "[CV 3/5] END max_depth=3, max_features=15, n_estimators=3;, score=nan total time=   0.0s\n",
      "[CV 4/5] END max_depth=3, max_features=15, n_estimators=3;, score=nan total time=   0.0s\n",
      "[CV 5/5] END max_depth=3, max_features=15, n_estimators=3;, score=nan total time=   0.0s\n",
      "[CV 1/5] END max_depth=3, max_features=15, n_estimators=5;, score=nan total time=   0.1s\n",
      "[CV 2/5] END max_depth=3, max_features=15, n_estimators=5;, score=nan total time=   0.2s\n",
      "[CV 3/5] END max_depth=3, max_features=15, n_estimators=5;, score=nan total time=   0.1s\n",
      "[CV 4/5] END max_depth=3, max_features=15, n_estimators=5;, score=nan total time=   0.0s\n",
      "[CV 5/5] END max_depth=3, max_features=15, n_estimators=5;, score=nan total time=   0.1s\n",
      "[CV 1/5] END max_depth=3, max_features=15, n_estimators=10;, score=nan total time=   0.2s\n",
      "[CV 2/5] END max_depth=3, max_features=15, n_estimators=10;, score=nan total time=   0.2s\n",
      "[CV 3/5] END max_depth=3, max_features=15, n_estimators=10;, score=nan total time=   0.2s\n",
      "[CV 4/5] END max_depth=3, max_features=15, n_estimators=10;, score=nan total time=   0.2s\n",
      "[CV 5/5] END max_depth=3, max_features=15, n_estimators=10;, score=nan total time=   0.2s\n",
      "[CV 1/5] END max_depth=3, max_features=15, n_estimators=25;, score=nan total time=   0.5s\n",
      "[CV 2/5] END max_depth=3, max_features=15, n_estimators=25;, score=nan total time=   0.5s\n",
      "[CV 3/5] END max_depth=3, max_features=15, n_estimators=25;, score=nan total time=   0.4s\n",
      "[CV 4/5] END max_depth=3, max_features=15, n_estimators=25;, score=nan total time=   0.4s\n",
      "[CV 5/5] END max_depth=3, max_features=15, n_estimators=25;, score=nan total time=   0.5s\n",
      "[CV 1/5] END max_depth=3, max_features=15, n_estimators=50;, score=nan total time=   1.2s\n",
      "[CV 2/5] END max_depth=3, max_features=15, n_estimators=50;, score=nan total time=   1.0s\n",
      "[CV 3/5] END max_depth=3, max_features=15, n_estimators=50;, score=nan total time=   1.0s\n",
      "[CV 4/5] END max_depth=3, max_features=15, n_estimators=50;, score=nan total time=   1.0s\n",
      "[CV 5/5] END max_depth=3, max_features=15, n_estimators=50;, score=nan total time=   1.0s\n",
      "[CV 1/5] END max_depth=3, max_features=15, n_estimators=150;, score=nan total time=   3.0s\n",
      "[CV 2/5] END max_depth=3, max_features=15, n_estimators=150;, score=nan total time=   3.1s\n",
      "[CV 3/5] END max_depth=3, max_features=15, n_estimators=150;, score=nan total time=   3.0s\n",
      "[CV 4/5] END max_depth=3, max_features=15, n_estimators=150;, score=nan total time=   3.6s\n",
      "[CV 5/5] END max_depth=3, max_features=15, n_estimators=150;, score=nan total time=   3.8s\n",
      "[CV 1/5] END max_depth=3, max_features=20, n_estimators=3;, score=nan total time=   0.0s\n",
      "[CV 2/5] END max_depth=3, max_features=20, n_estimators=3;, score=nan total time=   0.1s\n"
     ]
    },
    {
     "name": "stdout",
     "output_type": "stream",
     "text": [
      "[CV 3/5] END max_depth=3, max_features=20, n_estimators=3;, score=nan total time=   0.2s\n",
      "[CV 4/5] END max_depth=3, max_features=20, n_estimators=3;, score=nan total time=   0.1s\n",
      "[CV 5/5] END max_depth=3, max_features=20, n_estimators=3;, score=nan total time=   0.0s\n",
      "[CV 1/5] END max_depth=3, max_features=20, n_estimators=5;, score=nan total time=   0.1s\n",
      "[CV 2/5] END max_depth=3, max_features=20, n_estimators=5;, score=nan total time=   0.1s\n",
      "[CV 3/5] END max_depth=3, max_features=20, n_estimators=5;, score=nan total time=   0.1s\n",
      "[CV 4/5] END max_depth=3, max_features=20, n_estimators=5;, score=nan total time=   0.1s\n",
      "[CV 5/5] END max_depth=3, max_features=20, n_estimators=5;, score=nan total time=   0.2s\n",
      "[CV 1/5] END max_depth=3, max_features=20, n_estimators=10;, score=nan total time=   0.3s\n",
      "[CV 2/5] END max_depth=3, max_features=20, n_estimators=10;, score=nan total time=   0.4s\n",
      "[CV 3/5] END max_depth=3, max_features=20, n_estimators=10;, score=nan total time=   0.5s\n",
      "[CV 4/5] END max_depth=3, max_features=20, n_estimators=10;, score=nan total time=   0.4s\n",
      "[CV 5/5] END max_depth=3, max_features=20, n_estimators=10;, score=nan total time=   0.5s\n",
      "[CV 1/5] END max_depth=3, max_features=20, n_estimators=25;, score=nan total time=   1.1s\n",
      "[CV 2/5] END max_depth=3, max_features=20, n_estimators=25;, score=nan total time=   1.0s\n",
      "[CV 3/5] END max_depth=3, max_features=20, n_estimators=25;, score=nan total time=   0.9s\n",
      "[CV 4/5] END max_depth=3, max_features=20, n_estimators=25;, score=nan total time=   1.0s\n",
      "[CV 5/5] END max_depth=3, max_features=20, n_estimators=25;, score=nan total time=   0.8s\n",
      "[CV 1/5] END max_depth=3, max_features=20, n_estimators=50;, score=nan total time=   1.4s\n",
      "[CV 2/5] END max_depth=3, max_features=20, n_estimators=50;, score=nan total time=   1.5s\n",
      "[CV 3/5] END max_depth=3, max_features=20, n_estimators=50;, score=nan total time=   1.6s\n",
      "[CV 4/5] END max_depth=3, max_features=20, n_estimators=50;, score=nan total time=   1.7s\n",
      "[CV 5/5] END max_depth=3, max_features=20, n_estimators=50;, score=nan total time=   1.5s\n",
      "[CV 1/5] END max_depth=3, max_features=20, n_estimators=150;, score=nan total time=   4.6s\n",
      "[CV 2/5] END max_depth=3, max_features=20, n_estimators=150;, score=nan total time=   4.6s\n",
      "[CV 3/5] END max_depth=3, max_features=20, n_estimators=150;, score=nan total time=   5.2s\n",
      "[CV 4/5] END max_depth=3, max_features=20, n_estimators=150;, score=nan total time=   4.9s\n",
      "[CV 5/5] END max_depth=3, max_features=20, n_estimators=150;, score=nan total time=   4.8s\n",
      "[CV 1/5] END max_depth=5, max_features=4, n_estimators=3;, score=nan total time=   0.0s\n",
      "[CV 2/5] END max_depth=5, max_features=4, n_estimators=3;, score=nan total time=   0.0s\n",
      "[CV 3/5] END max_depth=5, max_features=4, n_estimators=3;, score=nan total time=   0.0s\n",
      "[CV 4/5] END max_depth=5, max_features=4, n_estimators=3;, score=nan total time=   0.0s\n",
      "[CV 5/5] END max_depth=5, max_features=4, n_estimators=3;, score=nan total time=   0.0s\n",
      "[CV 1/5] END max_depth=5, max_features=4, n_estimators=5;, score=nan total time=   0.1s\n",
      "[CV 2/5] END max_depth=5, max_features=4, n_estimators=5;, score=nan total time=   0.1s\n",
      "[CV 3/5] END max_depth=5, max_features=4, n_estimators=5;, score=nan total time=   0.1s\n",
      "[CV 4/5] END max_depth=5, max_features=4, n_estimators=5;, score=nan total time=   0.1s\n",
      "[CV 5/5] END max_depth=5, max_features=4, n_estimators=5;, score=nan total time=   0.1s\n",
      "[CV 1/5] END max_depth=5, max_features=4, n_estimators=10;, score=nan total time=   0.2s\n",
      "[CV 2/5] END max_depth=5, max_features=4, n_estimators=10;, score=nan total time=   0.2s\n",
      "[CV 3/5] END max_depth=5, max_features=4, n_estimators=10;, score=nan total time=   0.1s\n",
      "[CV 4/5] END max_depth=5, max_features=4, n_estimators=10;, score=nan total time=   0.2s\n",
      "[CV 5/5] END max_depth=5, max_features=4, n_estimators=10;, score=nan total time=   0.1s\n",
      "[CV 1/5] END max_depth=5, max_features=4, n_estimators=25;, score=nan total time=   0.3s\n",
      "[CV 2/5] END max_depth=5, max_features=4, n_estimators=25;, score=nan total time=   0.5s\n",
      "[CV 3/5] END max_depth=5, max_features=4, n_estimators=25;, score=nan total time=   0.4s\n",
      "[CV 4/5] END max_depth=5, max_features=4, n_estimators=25;, score=nan total time=   0.4s\n",
      "[CV 5/5] END max_depth=5, max_features=4, n_estimators=25;, score=nan total time=   0.4s\n",
      "[CV 1/5] END max_depth=5, max_features=4, n_estimators=50;, score=nan total time=   0.8s\n",
      "[CV 2/5] END max_depth=5, max_features=4, n_estimators=50;, score=nan total time=   0.9s\n",
      "[CV 3/5] END max_depth=5, max_features=4, n_estimators=50;, score=nan total time=   0.8s\n",
      "[CV 4/5] END max_depth=5, max_features=4, n_estimators=50;, score=nan total time=   0.7s\n",
      "[CV 5/5] END max_depth=5, max_features=4, n_estimators=50;, score=nan total time=   0.8s\n",
      "[CV 1/5] END max_depth=5, max_features=4, n_estimators=150;, score=nan total time=   2.5s\n",
      "[CV 2/5] END max_depth=5, max_features=4, n_estimators=150;, score=nan total time=   2.6s\n",
      "[CV 3/5] END max_depth=5, max_features=4, n_estimators=150;, score=nan total time=   2.3s\n",
      "[CV 4/5] END max_depth=5, max_features=4, n_estimators=150;, score=nan total time=   2.3s\n",
      "[CV 5/5] END max_depth=5, max_features=4, n_estimators=150;, score=nan total time=   2.8s\n",
      "[CV 1/5] END max_depth=5, max_features=7, n_estimators=3;, score=nan total time=   0.0s\n",
      "[CV 2/5] END max_depth=5, max_features=7, n_estimators=3;, score=nan total time=   0.1s\n",
      "[CV 3/5] END max_depth=5, max_features=7, n_estimators=3;, score=nan total time=   0.1s\n",
      "[CV 4/5] END max_depth=5, max_features=7, n_estimators=3;, score=nan total time=   0.0s\n",
      "[CV 5/5] END max_depth=5, max_features=7, n_estimators=3;, score=nan total time=   0.0s\n",
      "[CV 1/5] END max_depth=5, max_features=7, n_estimators=5;, score=nan total time=   0.1s\n",
      "[CV 2/5] END max_depth=5, max_features=7, n_estimators=5;, score=nan total time=   0.2s\n",
      "[CV 3/5] END max_depth=5, max_features=7, n_estimators=5;, score=nan total time=   0.1s\n",
      "[CV 4/5] END max_depth=5, max_features=7, n_estimators=5;, score=nan total time=   0.1s\n",
      "[CV 5/5] END max_depth=5, max_features=7, n_estimators=5;, score=nan total time=   0.1s\n",
      "[CV 1/5] END max_depth=5, max_features=7, n_estimators=10;, score=nan total time=   0.2s\n",
      "[CV 2/5] END max_depth=5, max_features=7, n_estimators=10;, score=nan total time=   0.3s\n",
      "[CV 3/5] END max_depth=5, max_features=7, n_estimators=10;, score=nan total time=   0.2s\n",
      "[CV 4/5] END max_depth=5, max_features=7, n_estimators=10;, score=nan total time=   0.2s\n",
      "[CV 5/5] END max_depth=5, max_features=7, n_estimators=10;, score=nan total time=   0.2s\n",
      "[CV 1/5] END max_depth=5, max_features=7, n_estimators=25;, score=nan total time=   0.5s\n",
      "[CV 2/5] END max_depth=5, max_features=7, n_estimators=25;, score=nan total time=   0.5s\n",
      "[CV 3/5] END max_depth=5, max_features=7, n_estimators=25;, score=nan total time=   0.5s\n",
      "[CV 4/5] END max_depth=5, max_features=7, n_estimators=25;, score=nan total time=   0.5s\n",
      "[CV 5/5] END max_depth=5, max_features=7, n_estimators=25;, score=nan total time=   0.5s\n",
      "[CV 1/5] END max_depth=5, max_features=7, n_estimators=50;, score=nan total time=   1.1s\n",
      "[CV 2/5] END max_depth=5, max_features=7, n_estimators=50;, score=nan total time=   1.2s\n",
      "[CV 3/5] END max_depth=5, max_features=7, n_estimators=50;, score=nan total time=   1.1s\n",
      "[CV 4/5] END max_depth=5, max_features=7, n_estimators=50;, score=nan total time=   1.1s\n",
      "[CV 5/5] END max_depth=5, max_features=7, n_estimators=50;, score=nan total time=   1.1s\n",
      "[CV 1/5] END max_depth=5, max_features=7, n_estimators=150;, score=nan total time=   3.2s\n",
      "[CV 2/5] END max_depth=5, max_features=7, n_estimators=150;, score=nan total time=   3.2s\n",
      "[CV 3/5] END max_depth=5, max_features=7, n_estimators=150;, score=nan total time=   3.4s\n",
      "[CV 4/5] END max_depth=5, max_features=7, n_estimators=150;, score=nan total time=   3.2s\n",
      "[CV 5/5] END max_depth=5, max_features=7, n_estimators=150;, score=nan total time=   3.0s\n",
      "[CV 1/5] END max_depth=5, max_features=15, n_estimators=3;, score=nan total time=   0.2s\n",
      "[CV 2/5] END max_depth=5, max_features=15, n_estimators=3;, score=nan total time=   0.1s\n",
      "[CV 3/5] END max_depth=5, max_features=15, n_estimators=3;, score=nan total time=   0.1s\n",
      "[CV 4/5] END max_depth=5, max_features=15, n_estimators=3;, score=nan total time=   0.1s\n"
     ]
    },
    {
     "name": "stdout",
     "output_type": "stream",
     "text": [
      "[CV 5/5] END max_depth=5, max_features=15, n_estimators=3;, score=nan total time=   0.1s\n",
      "[CV 1/5] END max_depth=5, max_features=15, n_estimators=5;, score=nan total time=   0.2s\n",
      "[CV 2/5] END max_depth=5, max_features=15, n_estimators=5;, score=nan total time=   0.2s\n",
      "[CV 3/5] END max_depth=5, max_features=15, n_estimators=5;, score=nan total time=   0.1s\n",
      "[CV 4/5] END max_depth=5, max_features=15, n_estimators=5;, score=nan total time=   0.2s\n",
      "[CV 5/5] END max_depth=5, max_features=15, n_estimators=5;, score=nan total time=   0.2s\n",
      "[CV 1/5] END max_depth=5, max_features=15, n_estimators=10;, score=nan total time=   0.4s\n",
      "[CV 2/5] END max_depth=5, max_features=15, n_estimators=10;, score=nan total time=   0.4s\n",
      "[CV 3/5] END max_depth=5, max_features=15, n_estimators=10;, score=nan total time=   0.4s\n",
      "[CV 4/5] END max_depth=5, max_features=15, n_estimators=10;, score=nan total time=   0.4s\n",
      "[CV 5/5] END max_depth=5, max_features=15, n_estimators=10;, score=nan total time=   0.4s\n",
      "[CV 1/5] END max_depth=5, max_features=15, n_estimators=25;, score=nan total time=   0.9s\n",
      "[CV 2/5] END max_depth=5, max_features=15, n_estimators=25;, score=nan total time=   0.9s\n",
      "[CV 3/5] END max_depth=5, max_features=15, n_estimators=25;, score=nan total time=   0.9s\n",
      "[CV 4/5] END max_depth=5, max_features=15, n_estimators=25;, score=nan total time=   1.1s\n",
      "[CV 5/5] END max_depth=5, max_features=15, n_estimators=25;, score=nan total time=   1.0s\n",
      "[CV 1/5] END max_depth=5, max_features=15, n_estimators=50;, score=nan total time=   1.8s\n",
      "[CV 2/5] END max_depth=5, max_features=15, n_estimators=50;, score=nan total time=   2.0s\n",
      "[CV 3/5] END max_depth=5, max_features=15, n_estimators=50;, score=nan total time=   1.9s\n",
      "[CV 4/5] END max_depth=5, max_features=15, n_estimators=50;, score=nan total time=   1.9s\n",
      "[CV 5/5] END max_depth=5, max_features=15, n_estimators=50;, score=nan total time=   2.0s\n",
      "[CV 1/5] END max_depth=5, max_features=15, n_estimators=150;, score=nan total time=   5.6s\n",
      "[CV 2/5] END max_depth=5, max_features=15, n_estimators=150;, score=nan total time=   5.5s\n",
      "[CV 3/5] END max_depth=5, max_features=15, n_estimators=150;, score=nan total time=   5.6s\n",
      "[CV 4/5] END max_depth=5, max_features=15, n_estimators=150;, score=nan total time=   5.6s\n",
      "[CV 5/5] END max_depth=5, max_features=15, n_estimators=150;, score=nan total time=   5.5s\n",
      "[CV 1/5] END max_depth=5, max_features=20, n_estimators=3;, score=nan total time=   0.1s\n",
      "[CV 2/5] END max_depth=5, max_features=20, n_estimators=3;, score=nan total time=   0.1s\n",
      "[CV 3/5] END max_depth=5, max_features=20, n_estimators=3;, score=nan total time=   0.1s\n",
      "[CV 4/5] END max_depth=5, max_features=20, n_estimators=3;, score=nan total time=   0.2s\n",
      "[CV 5/5] END max_depth=5, max_features=20, n_estimators=3;, score=nan total time=   0.1s\n",
      "[CV 1/5] END max_depth=5, max_features=20, n_estimators=5;, score=nan total time=   0.2s\n",
      "[CV 2/5] END max_depth=5, max_features=20, n_estimators=5;, score=nan total time=   0.2s\n",
      "[CV 3/5] END max_depth=5, max_features=20, n_estimators=5;, score=nan total time=   0.2s\n",
      "[CV 4/5] END max_depth=5, max_features=20, n_estimators=5;, score=nan total time=   0.2s\n",
      "[CV 5/5] END max_depth=5, max_features=20, n_estimators=5;, score=nan total time=   0.2s\n",
      "[CV 1/5] END max_depth=5, max_features=20, n_estimators=10;, score=nan total time=   0.5s\n",
      "[CV 2/5] END max_depth=5, max_features=20, n_estimators=10;, score=nan total time=   0.5s\n",
      "[CV 3/5] END max_depth=5, max_features=20, n_estimators=10;, score=nan total time=   0.4s\n",
      "[CV 4/5] END max_depth=5, max_features=20, n_estimators=10;, score=nan total time=   0.5s\n",
      "[CV 5/5] END max_depth=5, max_features=20, n_estimators=10;, score=nan total time=   0.5s\n",
      "[CV 1/5] END max_depth=5, max_features=20, n_estimators=25;, score=nan total time=   1.0s\n",
      "[CV 2/5] END max_depth=5, max_features=20, n_estimators=25;, score=nan total time=   1.1s\n",
      "[CV 3/5] END max_depth=5, max_features=20, n_estimators=25;, score=nan total time=   1.2s\n",
      "[CV 4/5] END max_depth=5, max_features=20, n_estimators=25;, score=nan total time=   1.2s\n",
      "[CV 5/5] END max_depth=5, max_features=20, n_estimators=25;, score=nan total time=   1.2s\n",
      "[CV 1/5] END max_depth=5, max_features=20, n_estimators=50;, score=nan total time=   2.1s\n",
      "[CV 2/5] END max_depth=5, max_features=20, n_estimators=50;, score=nan total time=   2.5s\n",
      "[CV 3/5] END max_depth=5, max_features=20, n_estimators=50;, score=nan total time=   2.1s\n",
      "[CV 4/5] END max_depth=5, max_features=20, n_estimators=50;, score=nan total time=   2.3s\n",
      "[CV 5/5] END max_depth=5, max_features=20, n_estimators=50;, score=nan total time=   2.3s\n",
      "[CV 1/5] END max_depth=5, max_features=20, n_estimators=150;, score=nan total time=   6.7s\n",
      "[CV 2/5] END max_depth=5, max_features=20, n_estimators=150;, score=nan total time=   7.5s\n",
      "[CV 3/5] END max_depth=5, max_features=20, n_estimators=150;, score=nan total time=   8.6s\n",
      "[CV 4/5] END max_depth=5, max_features=20, n_estimators=150;, score=nan total time=   7.8s\n",
      "[CV 5/5] END max_depth=5, max_features=20, n_estimators=150;, score=nan total time=   8.0s\n",
      "[CV 1/5] END max_depth=7, max_features=4, n_estimators=3;, score=nan total time=   0.0s\n",
      "[CV 2/5] END max_depth=7, max_features=4, n_estimators=3;, score=nan total time=   0.0s\n",
      "[CV 3/5] END max_depth=7, max_features=4, n_estimators=3;, score=nan total time=   0.0s\n",
      "[CV 4/5] END max_depth=7, max_features=4, n_estimators=3;, score=nan total time=   0.1s\n",
      "[CV 5/5] END max_depth=7, max_features=4, n_estimators=3;, score=nan total time=   0.2s\n",
      "[CV 1/5] END max_depth=7, max_features=4, n_estimators=5;, score=nan total time=   0.3s\n",
      "[CV 2/5] END max_depth=7, max_features=4, n_estimators=5;, score=nan total time=   0.1s\n",
      "[CV 3/5] END max_depth=7, max_features=4, n_estimators=5;, score=nan total time=   0.0s\n",
      "[CV 4/5] END max_depth=7, max_features=4, n_estimators=5;, score=nan total time=   0.0s\n",
      "[CV 5/5] END max_depth=7, max_features=4, n_estimators=5;, score=nan total time=   0.1s\n",
      "[CV 1/5] END max_depth=7, max_features=4, n_estimators=10;, score=nan total time=   0.2s\n",
      "[CV 2/5] END max_depth=7, max_features=4, n_estimators=10;, score=nan total time=   0.2s\n",
      "[CV 3/5] END max_depth=7, max_features=4, n_estimators=10;, score=nan total time=   0.1s\n",
      "[CV 4/5] END max_depth=7, max_features=4, n_estimators=10;, score=nan total time=   0.3s\n",
      "[CV 5/5] END max_depth=7, max_features=4, n_estimators=10;, score=nan total time=   0.2s\n",
      "[CV 1/5] END max_depth=7, max_features=4, n_estimators=25;, score=nan total time=   0.6s\n",
      "[CV 2/5] END max_depth=7, max_features=4, n_estimators=25;, score=nan total time=   0.4s\n",
      "[CV 3/5] END max_depth=7, max_features=4, n_estimators=25;, score=nan total time=   0.7s\n",
      "[CV 4/5] END max_depth=7, max_features=4, n_estimators=25;, score=nan total time=   0.6s\n",
      "[CV 5/5] END max_depth=7, max_features=4, n_estimators=25;, score=nan total time=   0.4s\n",
      "[CV 1/5] END max_depth=7, max_features=4, n_estimators=50;, score=nan total time=   0.9s\n",
      "[CV 2/5] END max_depth=7, max_features=4, n_estimators=50;, score=nan total time=   1.2s\n",
      "[CV 3/5] END max_depth=7, max_features=4, n_estimators=50;, score=nan total time=   0.9s\n",
      "[CV 4/5] END max_depth=7, max_features=4, n_estimators=50;, score=nan total time=   0.8s\n",
      "[CV 5/5] END max_depth=7, max_features=4, n_estimators=50;, score=nan total time=   0.8s\n",
      "[CV 1/5] END max_depth=7, max_features=4, n_estimators=150;, score=nan total time=   2.4s\n",
      "[CV 2/5] END max_depth=7, max_features=4, n_estimators=150;, score=nan total time=   2.6s\n",
      "[CV 3/5] END max_depth=7, max_features=4, n_estimators=150;, score=nan total time=   2.2s\n",
      "[CV 4/5] END max_depth=7, max_features=4, n_estimators=150;, score=nan total time=   2.5s\n",
      "[CV 5/5] END max_depth=7, max_features=4, n_estimators=150;, score=nan total time=   2.3s\n",
      "[CV 1/5] END max_depth=7, max_features=7, n_estimators=3;, score=nan total time=   0.0s\n",
      "[CV 2/5] END max_depth=7, max_features=7, n_estimators=3;, score=nan total time=   0.0s\n",
      "[CV 3/5] END max_depth=7, max_features=7, n_estimators=3;, score=nan total time=   0.0s\n",
      "[CV 4/5] END max_depth=7, max_features=7, n_estimators=3;, score=nan total time=   0.0s\n",
      "[CV 5/5] END max_depth=7, max_features=7, n_estimators=3;, score=nan total time=   0.0s\n",
      "[CV 1/5] END max_depth=7, max_features=7, n_estimators=5;, score=nan total time=   0.1s\n",
      "[CV 2/5] END max_depth=7, max_features=7, n_estimators=5;, score=nan total time=   0.1s\n"
     ]
    },
    {
     "name": "stdout",
     "output_type": "stream",
     "text": [
      "[CV 3/5] END max_depth=7, max_features=7, n_estimators=5;, score=nan total time=   0.1s\n",
      "[CV 4/5] END max_depth=7, max_features=7, n_estimators=5;, score=nan total time=   0.1s\n",
      "[CV 5/5] END max_depth=7, max_features=7, n_estimators=5;, score=nan total time=   0.1s\n",
      "[CV 1/5] END max_depth=7, max_features=7, n_estimators=10;, score=nan total time=   0.2s\n",
      "[CV 2/5] END max_depth=7, max_features=7, n_estimators=10;, score=nan total time=   0.2s\n",
      "[CV 3/5] END max_depth=7, max_features=7, n_estimators=10;, score=nan total time=   0.2s\n",
      "[CV 4/5] END max_depth=7, max_features=7, n_estimators=10;, score=nan total time=   0.2s\n",
      "[CV 5/5] END max_depth=7, max_features=7, n_estimators=10;, score=nan total time=   0.2s\n",
      "[CV 1/5] END max_depth=7, max_features=7, n_estimators=25;, score=nan total time=   0.5s\n",
      "[CV 2/5] END max_depth=7, max_features=7, n_estimators=25;, score=nan total time=   0.6s\n",
      "[CV 3/5] END max_depth=7, max_features=7, n_estimators=25;, score=nan total time=   0.5s\n",
      "[CV 4/5] END max_depth=7, max_features=7, n_estimators=25;, score=nan total time=   0.6s\n",
      "[CV 5/5] END max_depth=7, max_features=7, n_estimators=25;, score=nan total time=   0.5s\n",
      "[CV 1/5] END max_depth=7, max_features=7, n_estimators=50;, score=nan total time=   1.0s\n",
      "[CV 2/5] END max_depth=7, max_features=7, n_estimators=50;, score=nan total time=   1.0s\n",
      "[CV 3/5] END max_depth=7, max_features=7, n_estimators=50;, score=nan total time=   1.1s\n",
      "[CV 4/5] END max_depth=7, max_features=7, n_estimators=50;, score=nan total time=   1.0s\n",
      "[CV 5/5] END max_depth=7, max_features=7, n_estimators=50;, score=nan total time=   1.1s\n",
      "[CV 1/5] END max_depth=7, max_features=7, n_estimators=150;, score=nan total time=   3.1s\n",
      "[CV 2/5] END max_depth=7, max_features=7, n_estimators=150;, score=nan total time=   3.2s\n",
      "[CV 3/5] END max_depth=7, max_features=7, n_estimators=150;, score=nan total time=   3.1s\n",
      "[CV 4/5] END max_depth=7, max_features=7, n_estimators=150;, score=nan total time=   2.9s\n",
      "[CV 5/5] END max_depth=7, max_features=7, n_estimators=150;, score=nan total time=   3.2s\n",
      "[CV 1/5] END max_depth=7, max_features=15, n_estimators=3;, score=nan total time=   0.1s\n",
      "[CV 2/5] END max_depth=7, max_features=15, n_estimators=3;, score=nan total time=   0.1s\n",
      "[CV 3/5] END max_depth=7, max_features=15, n_estimators=3;, score=nan total time=   0.1s\n",
      "[CV 4/5] END max_depth=7, max_features=15, n_estimators=3;, score=nan total time=   0.1s\n",
      "[CV 5/5] END max_depth=7, max_features=15, n_estimators=3;, score=nan total time=   0.2s\n",
      "[CV 1/5] END max_depth=7, max_features=15, n_estimators=5;, score=nan total time=   0.2s\n",
      "[CV 2/5] END max_depth=7, max_features=15, n_estimators=5;, score=nan total time=   0.2s\n",
      "[CV 3/5] END max_depth=7, max_features=15, n_estimators=5;, score=nan total time=   0.2s\n",
      "[CV 4/5] END max_depth=7, max_features=15, n_estimators=5;, score=nan total time=   0.2s\n",
      "[CV 5/5] END max_depth=7, max_features=15, n_estimators=5;, score=nan total time=   0.2s\n",
      "[CV 1/5] END max_depth=7, max_features=15, n_estimators=10;, score=nan total time=   0.4s\n",
      "[CV 2/5] END max_depth=7, max_features=15, n_estimators=10;, score=nan total time=   0.4s\n",
      "[CV 3/5] END max_depth=7, max_features=15, n_estimators=10;, score=nan total time=   0.3s\n",
      "[CV 4/5] END max_depth=7, max_features=15, n_estimators=10;, score=nan total time=   0.3s\n",
      "[CV 5/5] END max_depth=7, max_features=15, n_estimators=10;, score=nan total time=   0.4s\n",
      "[CV 1/5] END max_depth=7, max_features=15, n_estimators=25;, score=nan total time=   0.9s\n",
      "[CV 2/5] END max_depth=7, max_features=15, n_estimators=25;, score=nan total time=   0.9s\n",
      "[CV 3/5] END max_depth=7, max_features=15, n_estimators=25;, score=nan total time=   1.0s\n",
      "[CV 4/5] END max_depth=7, max_features=15, n_estimators=25;, score=nan total time=   0.9s\n",
      "[CV 5/5] END max_depth=7, max_features=15, n_estimators=25;, score=nan total time=   0.9s\n",
      "[CV 1/5] END max_depth=7, max_features=15, n_estimators=50;, score=nan total time=   1.9s\n",
      "[CV 2/5] END max_depth=7, max_features=15, n_estimators=50;, score=nan total time=   1.8s\n",
      "[CV 3/5] END max_depth=7, max_features=15, n_estimators=50;, score=nan total time=   1.8s\n",
      "[CV 4/5] END max_depth=7, max_features=15, n_estimators=50;, score=nan total time=   1.9s\n",
      "[CV 5/5] END max_depth=7, max_features=15, n_estimators=50;, score=nan total time=   1.9s\n",
      "[CV 1/5] END max_depth=7, max_features=15, n_estimators=150;, score=nan total time=   5.6s\n",
      "[CV 2/5] END max_depth=7, max_features=15, n_estimators=150;, score=nan total time=   5.8s\n",
      "[CV 3/5] END max_depth=7, max_features=15, n_estimators=150;, score=nan total time=   3.3s\n",
      "[CV 4/5] END max_depth=7, max_features=15, n_estimators=150;, score=nan total time=   2.7s\n",
      "[CV 5/5] END max_depth=7, max_features=15, n_estimators=150;, score=nan total time=   2.3s\n",
      "[CV 1/5] END max_depth=7, max_features=20, n_estimators=3;, score=nan total time=   0.0s\n",
      "[CV 2/5] END max_depth=7, max_features=20, n_estimators=3;, score=nan total time=   0.0s\n",
      "[CV 3/5] END max_depth=7, max_features=20, n_estimators=3;, score=nan total time=   0.0s\n",
      "[CV 4/5] END max_depth=7, max_features=20, n_estimators=3;, score=nan total time=   0.0s\n",
      "[CV 5/5] END max_depth=7, max_features=20, n_estimators=3;, score=nan total time=   0.0s\n",
      "[CV 1/5] END max_depth=7, max_features=20, n_estimators=5;, score=nan total time=   0.0s\n",
      "[CV 2/5] END max_depth=7, max_features=20, n_estimators=5;, score=nan total time=   0.0s\n",
      "[CV 3/5] END max_depth=7, max_features=20, n_estimators=5;, score=nan total time=   0.0s\n",
      "[CV 4/5] END max_depth=7, max_features=20, n_estimators=5;, score=nan total time=   0.0s\n",
      "[CV 5/5] END max_depth=7, max_features=20, n_estimators=5;, score=nan total time=   0.0s\n",
      "[CV 1/5] END max_depth=7, max_features=20, n_estimators=10;, score=nan total time=   0.1s\n",
      "[CV 2/5] END max_depth=7, max_features=20, n_estimators=10;, score=nan total time=   0.1s\n",
      "[CV 3/5] END max_depth=7, max_features=20, n_estimators=10;, score=nan total time=   0.1s\n",
      "[CV 4/5] END max_depth=7, max_features=20, n_estimators=10;, score=nan total time=   0.1s\n",
      "[CV 5/5] END max_depth=7, max_features=20, n_estimators=10;, score=nan total time=   0.1s\n",
      "[CV 1/5] END max_depth=7, max_features=20, n_estimators=25;, score=nan total time=   0.4s\n",
      "[CV 2/5] END max_depth=7, max_features=20, n_estimators=25;, score=nan total time=   0.4s\n",
      "[CV 3/5] END max_depth=7, max_features=20, n_estimators=25;, score=nan total time=   0.4s\n",
      "[CV 4/5] END max_depth=7, max_features=20, n_estimators=25;, score=nan total time=   0.4s\n",
      "[CV 5/5] END max_depth=7, max_features=20, n_estimators=25;, score=nan total time=   0.5s\n",
      "[CV 1/5] END max_depth=7, max_features=20, n_estimators=50;, score=nan total time=   1.0s\n",
      "[CV 2/5] END max_depth=7, max_features=20, n_estimators=50;, score=nan total time=   1.0s\n",
      "[CV 3/5] END max_depth=7, max_features=20, n_estimators=50;, score=nan total time=   1.0s\n",
      "[CV 4/5] END max_depth=7, max_features=20, n_estimators=50;, score=nan total time=   1.0s\n",
      "[CV 5/5] END max_depth=7, max_features=20, n_estimators=50;, score=nan total time=   1.0s\n",
      "[CV 1/5] END max_depth=7, max_features=20, n_estimators=150;, score=nan total time=   3.0s\n",
      "[CV 2/5] END max_depth=7, max_features=20, n_estimators=150;, score=nan total time=   3.0s\n",
      "[CV 3/5] END max_depth=7, max_features=20, n_estimators=150;, score=nan total time=   3.0s\n",
      "[CV 4/5] END max_depth=7, max_features=20, n_estimators=150;, score=nan total time=   3.0s\n",
      "[CV 5/5] END max_depth=7, max_features=20, n_estimators=150;, score=nan total time=   3.3s\n",
      "[CV 1/5] END max_depth=10, max_features=4, n_estimators=3;, score=nan total time=   0.0s\n",
      "[CV 2/5] END max_depth=10, max_features=4, n_estimators=3;, score=nan total time=   0.0s\n",
      "[CV 3/5] END max_depth=10, max_features=4, n_estimators=3;, score=nan total time=   0.0s\n",
      "[CV 4/5] END max_depth=10, max_features=4, n_estimators=3;, score=nan total time=   0.0s\n",
      "[CV 5/5] END max_depth=10, max_features=4, n_estimators=3;, score=nan total time=   0.0s\n",
      "[CV 1/5] END max_depth=10, max_features=4, n_estimators=5;, score=nan total time=   0.0s\n",
      "[CV 2/5] END max_depth=10, max_features=4, n_estimators=5;, score=nan total time=   0.0s\n",
      "[CV 3/5] END max_depth=10, max_features=4, n_estimators=5;, score=nan total time=   0.0s\n",
      "[CV 4/5] END max_depth=10, max_features=4, n_estimators=5;, score=nan total time=   0.0s\n",
      "[CV 5/5] END max_depth=10, max_features=4, n_estimators=5;, score=nan total time=   0.0s\n",
      "[CV 1/5] END max_depth=10, max_features=4, n_estimators=10;, score=nan total time=   0.0s\n"
     ]
    },
    {
     "name": "stdout",
     "output_type": "stream",
     "text": [
      "[CV 2/5] END max_depth=10, max_features=4, n_estimators=10;, score=nan total time=   0.0s\n",
      "[CV 3/5] END max_depth=10, max_features=4, n_estimators=10;, score=nan total time=   0.0s\n",
      "[CV 4/5] END max_depth=10, max_features=4, n_estimators=10;, score=nan total time=   0.0s\n",
      "[CV 5/5] END max_depth=10, max_features=4, n_estimators=10;, score=nan total time=   0.0s\n",
      "[CV 1/5] END max_depth=10, max_features=4, n_estimators=25;, score=nan total time=   0.1s\n",
      "[CV 2/5] END max_depth=10, max_features=4, n_estimators=25;, score=nan total time=   0.1s\n",
      "[CV 3/5] END max_depth=10, max_features=4, n_estimators=25;, score=nan total time=   0.1s\n",
      "[CV 4/5] END max_depth=10, max_features=4, n_estimators=25;, score=nan total time=   0.1s\n",
      "[CV 5/5] END max_depth=10, max_features=4, n_estimators=25;, score=nan total time=   0.1s\n",
      "[CV 1/5] END max_depth=10, max_features=4, n_estimators=50;, score=nan total time=   0.3s\n",
      "[CV 2/5] END max_depth=10, max_features=4, n_estimators=50;, score=nan total time=   0.3s\n",
      "[CV 3/5] END max_depth=10, max_features=4, n_estimators=50;, score=nan total time=   0.3s\n",
      "[CV 4/5] END max_depth=10, max_features=4, n_estimators=50;, score=nan total time=   0.3s\n",
      "[CV 5/5] END max_depth=10, max_features=4, n_estimators=50;, score=nan total time=   0.3s\n",
      "[CV 1/5] END max_depth=10, max_features=4, n_estimators=150;, score=nan total time=   1.1s\n",
      "[CV 2/5] END max_depth=10, max_features=4, n_estimators=150;, score=nan total time=   1.1s\n",
      "[CV 3/5] END max_depth=10, max_features=4, n_estimators=150;, score=nan total time=   1.2s\n",
      "[CV 4/5] END max_depth=10, max_features=4, n_estimators=150;, score=nan total time=   1.0s\n",
      "[CV 5/5] END max_depth=10, max_features=4, n_estimators=150;, score=nan total time=   1.0s\n",
      "[CV 1/5] END max_depth=10, max_features=7, n_estimators=3;, score=nan total time=   0.0s\n",
      "[CV 2/5] END max_depth=10, max_features=7, n_estimators=3;, score=nan total time=   0.0s\n",
      "[CV 3/5] END max_depth=10, max_features=7, n_estimators=3;, score=nan total time=   0.0s\n",
      "[CV 4/5] END max_depth=10, max_features=7, n_estimators=3;, score=nan total time=   0.0s\n",
      "[CV 5/5] END max_depth=10, max_features=7, n_estimators=3;, score=nan total time=   0.0s\n",
      "[CV 1/5] END max_depth=10, max_features=7, n_estimators=5;, score=nan total time=   0.0s\n",
      "[CV 2/5] END max_depth=10, max_features=7, n_estimators=5;, score=nan total time=   0.0s\n",
      "[CV 3/5] END max_depth=10, max_features=7, n_estimators=5;, score=nan total time=   0.0s\n",
      "[CV 4/5] END max_depth=10, max_features=7, n_estimators=5;, score=nan total time=   0.0s\n",
      "[CV 5/5] END max_depth=10, max_features=7, n_estimators=5;, score=nan total time=   0.0s\n",
      "[CV 1/5] END max_depth=10, max_features=7, n_estimators=10;, score=nan total time=   0.0s\n",
      "[CV 2/5] END max_depth=10, max_features=7, n_estimators=10;, score=nan total time=   0.0s\n",
      "[CV 3/5] END max_depth=10, max_features=7, n_estimators=10;, score=nan total time=   0.0s\n",
      "[CV 4/5] END max_depth=10, max_features=7, n_estimators=10;, score=nan total time=   0.0s\n",
      "[CV 5/5] END max_depth=10, max_features=7, n_estimators=10;, score=nan total time=   0.0s\n",
      "[CV 1/5] END max_depth=10, max_features=7, n_estimators=25;, score=nan total time=   0.2s\n",
      "[CV 2/5] END max_depth=10, max_features=7, n_estimators=25;, score=nan total time=   0.2s\n",
      "[CV 3/5] END max_depth=10, max_features=7, n_estimators=25;, score=nan total time=   0.2s\n",
      "[CV 4/5] END max_depth=10, max_features=7, n_estimators=25;, score=nan total time=   0.2s\n",
      "[CV 5/5] END max_depth=10, max_features=7, n_estimators=25;, score=nan total time=   0.2s\n",
      "[CV 1/5] END max_depth=10, max_features=7, n_estimators=50;, score=nan total time=   0.5s\n",
      "[CV 2/5] END max_depth=10, max_features=7, n_estimators=50;, score=nan total time=   0.5s\n",
      "[CV 3/5] END max_depth=10, max_features=7, n_estimators=50;, score=nan total time=   0.5s\n",
      "[CV 4/5] END max_depth=10, max_features=7, n_estimators=50;, score=nan total time=   0.5s\n",
      "[CV 5/5] END max_depth=10, max_features=7, n_estimators=50;, score=nan total time=   0.5s\n",
      "[CV 1/5] END max_depth=10, max_features=7, n_estimators=150;, score=nan total time=   1.6s\n",
      "[CV 2/5] END max_depth=10, max_features=7, n_estimators=150;, score=nan total time=   1.6s\n",
      "[CV 3/5] END max_depth=10, max_features=7, n_estimators=150;, score=nan total time=   1.6s\n",
      "[CV 4/5] END max_depth=10, max_features=7, n_estimators=150;, score=nan total time=   1.6s\n",
      "[CV 5/5] END max_depth=10, max_features=7, n_estimators=150;, score=nan total time=   1.6s\n",
      "[CV 1/5] END max_depth=10, max_features=15, n_estimators=3;, score=nan total time=   0.0s\n",
      "[CV 2/5] END max_depth=10, max_features=15, n_estimators=3;, score=nan total time=   0.0s\n",
      "[CV 3/5] END max_depth=10, max_features=15, n_estimators=3;, score=nan total time=   0.0s\n",
      "[CV 4/5] END max_depth=10, max_features=15, n_estimators=3;, score=nan total time=   0.0s\n",
      "[CV 5/5] END max_depth=10, max_features=15, n_estimators=3;, score=nan total time=   0.0s\n",
      "[CV 1/5] END max_depth=10, max_features=15, n_estimators=5;, score=nan total time=   0.0s\n",
      "[CV 2/5] END max_depth=10, max_features=15, n_estimators=5;, score=nan total time=   0.0s\n",
      "[CV 3/5] END max_depth=10, max_features=15, n_estimators=5;, score=nan total time=   0.0s\n",
      "[CV 4/5] END max_depth=10, max_features=15, n_estimators=5;, score=nan total time=   0.0s\n",
      "[CV 5/5] END max_depth=10, max_features=15, n_estimators=5;, score=nan total time=   0.0s\n",
      "[CV 1/5] END max_depth=10, max_features=15, n_estimators=10;, score=nan total time=   0.1s\n",
      "[CV 2/5] END max_depth=10, max_features=15, n_estimators=10;, score=nan total time=   0.1s\n",
      "[CV 3/5] END max_depth=10, max_features=15, n_estimators=10;, score=nan total time=   0.1s\n",
      "[CV 4/5] END max_depth=10, max_features=15, n_estimators=10;, score=nan total time=   0.1s\n",
      "[CV 5/5] END max_depth=10, max_features=15, n_estimators=10;, score=nan total time=   0.1s\n",
      "[CV 1/5] END max_depth=10, max_features=15, n_estimators=25;, score=nan total time=   0.4s\n",
      "[CV 2/5] END max_depth=10, max_features=15, n_estimators=25;, score=nan total time=   0.4s\n",
      "[CV 3/5] END max_depth=10, max_features=15, n_estimators=25;, score=nan total time=   0.4s\n",
      "[CV 4/5] END max_depth=10, max_features=15, n_estimators=25;, score=nan total time=   0.4s\n",
      "[CV 5/5] END max_depth=10, max_features=15, n_estimators=25;, score=nan total time=   0.4s\n",
      "[CV 1/5] END max_depth=10, max_features=15, n_estimators=50;, score=nan total time=   1.0s\n",
      "[CV 2/5] END max_depth=10, max_features=15, n_estimators=50;, score=nan total time=   1.0s\n",
      "[CV 3/5] END max_depth=10, max_features=15, n_estimators=50;, score=nan total time=   1.0s\n",
      "[CV 4/5] END max_depth=10, max_features=15, n_estimators=50;, score=nan total time=   1.0s\n",
      "[CV 5/5] END max_depth=10, max_features=15, n_estimators=50;, score=nan total time=   1.0s\n",
      "[CV 1/5] END max_depth=10, max_features=15, n_estimators=150;, score=nan total time=   3.0s\n",
      "[CV 2/5] END max_depth=10, max_features=15, n_estimators=150;, score=nan total time=   3.0s\n",
      "[CV 3/5] END max_depth=10, max_features=15, n_estimators=150;, score=nan total time=   3.0s\n",
      "[CV 4/5] END max_depth=10, max_features=15, n_estimators=150;, score=nan total time=   3.0s\n",
      "[CV 5/5] END max_depth=10, max_features=15, n_estimators=150;, score=nan total time=   3.0s\n",
      "[CV 1/5] END max_depth=10, max_features=20, n_estimators=3;, score=nan total time=   0.0s\n",
      "[CV 2/5] END max_depth=10, max_features=20, n_estimators=3;, score=nan total time=   0.0s\n",
      "[CV 3/5] END max_depth=10, max_features=20, n_estimators=3;, score=nan total time=   0.0s\n",
      "[CV 4/5] END max_depth=10, max_features=20, n_estimators=3;, score=nan total time=   0.0s\n",
      "[CV 5/5] END max_depth=10, max_features=20, n_estimators=3;, score=nan total time=   0.0s\n",
      "[CV 1/5] END max_depth=10, max_features=20, n_estimators=5;, score=nan total time=   0.1s\n",
      "[CV 2/5] END max_depth=10, max_features=20, n_estimators=5;, score=nan total time=   0.1s\n",
      "[CV 3/5] END max_depth=10, max_features=20, n_estimators=5;, score=nan total time=   0.1s\n",
      "[CV 4/5] END max_depth=10, max_features=20, n_estimators=5;, score=nan total time=   0.1s\n",
      "[CV 5/5] END max_depth=10, max_features=20, n_estimators=5;, score=nan total time=   0.1s\n",
      "[CV 1/5] END max_depth=10, max_features=20, n_estimators=10;, score=nan total time=   0.2s\n",
      "[CV 2/5] END max_depth=10, max_features=20, n_estimators=10;, score=nan total time=   0.2s\n"
     ]
    },
    {
     "name": "stdout",
     "output_type": "stream",
     "text": [
      "[CV 3/5] END max_depth=10, max_features=20, n_estimators=10;, score=nan total time=   0.2s\n",
      "[CV 4/5] END max_depth=10, max_features=20, n_estimators=10;, score=nan total time=   0.2s\n",
      "[CV 5/5] END max_depth=10, max_features=20, n_estimators=10;, score=nan total time=   0.2s\n",
      "[CV 1/5] END max_depth=10, max_features=20, n_estimators=25;, score=nan total time=   0.6s\n",
      "[CV 2/5] END max_depth=10, max_features=20, n_estimators=25;, score=nan total time=   0.6s\n",
      "[CV 3/5] END max_depth=10, max_features=20, n_estimators=25;, score=nan total time=   0.6s\n",
      "[CV 4/5] END max_depth=10, max_features=20, n_estimators=25;, score=nan total time=   0.6s\n",
      "[CV 5/5] END max_depth=10, max_features=20, n_estimators=25;, score=nan total time=   0.6s\n",
      "[CV 1/5] END max_depth=10, max_features=20, n_estimators=50;, score=nan total time=   1.3s\n",
      "[CV 2/5] END max_depth=10, max_features=20, n_estimators=50;, score=nan total time=   1.3s\n",
      "[CV 3/5] END max_depth=10, max_features=20, n_estimators=50;, score=nan total time=   1.3s\n",
      "[CV 4/5] END max_depth=10, max_features=20, n_estimators=50;, score=nan total time=   1.3s\n",
      "[CV 5/5] END max_depth=10, max_features=20, n_estimators=50;, score=nan total time=   1.3s\n",
      "[CV 1/5] END max_depth=10, max_features=20, n_estimators=150;, score=nan total time=   4.0s\n",
      "[CV 2/5] END max_depth=10, max_features=20, n_estimators=150;, score=nan total time=   3.9s\n",
      "[CV 3/5] END max_depth=10, max_features=20, n_estimators=150;, score=nan total time=   3.9s\n",
      "[CV 4/5] END max_depth=10, max_features=20, n_estimators=150;, score=nan total time=   3.9s\n",
      "[CV 5/5] END max_depth=10, max_features=20, n_estimators=150;, score=nan total time=   3.9s\n",
      "CPU times: total: 5min 58s\n",
      "Wall time: 7min 50s\n"
     ]
    },
    {
     "data": {
      "text/plain": [
       "GridSearchCV(cv=5, estimator=RandomForestClassifier(random_state=2),\n",
       "             param_grid={'max_depth': [3, 5, 7, 10],\n",
       "                         'max_features': [4, 7, 15, 20],\n",
       "                         'n_estimators': [3, 5, 10, 25, 50, 150]},\n",
       "             scoring='recall', verbose=4)"
      ]
     },
     "execution_count": 31,
     "metadata": {},
     "output_type": "execute_result"
    }
   ],
   "source": [
    "%%time\n",
    "#Seting the Hyper Parameters\n",
    "param_grid = {\"max_depth\": [3,5, 7, 10],\n",
    "              \"n_estimators\":[3,5,10,25,50,150],\n",
    "              \"max_features\": [4,7,15,20]}\n",
    "\n",
    "#Creating the classifier\n",
    "model = RandomForestClassifier(random_state=2)\n",
    "\n",
    "grid_search = GridSearchCV(model, param_grid=param_grid, cv=5, scoring='recall', verbose=4)\n",
    "grid_search.fit(X_train, y_train)"
   ]
  },
  {
   "cell_type": "code",
   "execution_count": 32,
   "id": "92a68c8c",
   "metadata": {},
   "outputs": [
    {
     "name": "stdout",
     "output_type": "stream",
     "text": [
      "nan\n",
      "{'max_depth': 3, 'max_features': 4, 'n_estimators': 3}\n"
     ]
    }
   ],
   "source": [
    "print(grid_search.best_score_) #Print the best recall\n",
    "print(grid_search.best_params_) #Print the best parameter"
   ]
  },
  {
   "cell_type": "code",
   "execution_count": 33,
   "id": "40f16070",
   "metadata": {},
   "outputs": [
    {
     "data": {
      "text/plain": [
       "RandomForestClassifier(max_depth=3, max_features=4, n_estimators=3,\n",
       "                       random_state=2)"
      ]
     },
     "execution_count": 33,
     "metadata": {},
     "output_type": "execute_result"
    }
   ],
   "source": [
    "#use the best params above to create a random forest classifier\n",
    "rf = RandomForestClassifier(max_depth=grid_search.best_params_.get('max_depth'), max_features=grid_search.best_params_.get('max_features'), \n",
    "                            n_estimators=grid_search.best_params_.get('n_estimators'), random_state=2)\n",
    "\n",
    "#training with the best params\n",
    "rf.fit(X_train, y_train)"
   ]
  },
  {
   "cell_type": "markdown",
   "id": "b18a6bf1",
   "metadata": {},
   "source": [
    "## After training using Random Forest We can observe that the Accuracy and Recall has increased.\n",
    "## RF was an Ensemble model"
   ]
  },
  {
   "cell_type": "code",
   "execution_count": 34,
   "id": "8ea336eb",
   "metadata": {},
   "outputs": [
    {
     "name": "stdout",
     "output_type": "stream",
     "text": [
      "0.6693333333333333\n",
      "\n",
      "\n",
      "Predicted    1    2    3    8   9   All\n",
      "True                                   \n",
      "1          157   29   11    4   3   204\n",
      "2           11  314    4    8   2   339\n",
      "3            2    2  384    4   4   396\n",
      "4           44    7    5   11   2    69\n",
      "5            9    5    3    4   0    21\n",
      "6           72    4    7   11  17   111\n",
      "7            9    3    1   33   4    50\n",
      "8           30   10    5  119   7   171\n",
      "9           75   23    7    4  30   139\n",
      "All        409  397  427  198  69  1500\n",
      "\n",
      "\n",
      "              precision    recall  f1-score   support\n",
      "\n",
      "           1       0.38      0.77      0.51       204\n",
      "           2       0.79      0.93      0.85       339\n",
      "           3       0.90      0.97      0.93       396\n",
      "           4       0.00      0.00      0.00        69\n",
      "           5       0.00      0.00      0.00        21\n",
      "           6       0.00      0.00      0.00       111\n",
      "           7       0.00      0.00      0.00        50\n",
      "           8       0.60      0.70      0.64       171\n",
      "           9       0.43      0.22      0.29       139\n",
      "\n",
      "    accuracy                           0.67      1500\n",
      "   macro avg       0.35      0.40      0.36      1500\n",
      "weighted avg       0.58      0.67      0.61      1500\n",
      "\n"
     ]
    }
   ],
   "source": [
    "#Testing the model \n",
    "#Predicting using our  model\n",
    "y_pred = rf.predict(X_test)\n",
    "\n",
    "# Performance of the model\n",
    "print(accuracy_score(y_test,y_pred))\n",
    "print(\"\\n\")\n",
    "print(pd.crosstab(y_test, y_pred, rownames=['True'], colnames=['Predicted'], margins=True))\n",
    "print(\"\\n\")\n",
    "print(classification_report(y_test, y_pred))"
   ]
  },
  {
   "cell_type": "code",
   "execution_count": 35,
   "id": "2a488454",
   "metadata": {},
   "outputs": [
    {
     "data": {
      "text/plain": [
       "Text(0.5, 0, 'Relative Importance')"
      ]
     },
     "execution_count": 35,
     "metadata": {},
     "output_type": "execute_result"
    },
    {
     "data": {
      "image/png": "[encoded data removed]",
      "text/plain": [
       "<Figure size 432x288 with 1 Axes>"
      ]
     },
     "metadata": {
      "needs_background": "light"
     },
     "output_type": "display_data"
    }
   ],
   "source": [
    "#Plot the features in terms of decreasing importances highlighting the most important feature\n",
    "importances = rf.feature_importances_\n",
    "indices = np.argsort(importances)\n",
    "\n",
    "features=df.columns\n",
    "\n",
    "plt.figure(1)\n",
    "plt.title('Feature Importances (Most importance feature: '+features[indices][len(indices)-1]+')')\n",
    "plt.barh(range(len(indices)), importances[indices], color='b', align='center')\n",
    "plt.yticks(range(len(indices)), features[indices])\n",
    "plt.xlabel('Relative Importance')"
   ]
  },
  {
   "cell_type": "code",
   "execution_count": 36,
   "id": "b8e0e594",
   "metadata": {},
   "outputs": [
    {
     "data": {
      "text/plain": [
       "array([  0, 303, 302, 301, 300, 299, 298, 297, 295, 294], dtype=int64)"
      ]
     },
     "execution_count": 36,
     "metadata": {},
     "output_type": "execute_result"
    }
   ],
   "source": [
    "indices[:10]"
   ]
  },
  {
   "cell_type": "code",
   "execution_count": null,
   "id": "0b86c2db",
   "metadata": {},
   "outputs": [],
   "source": []
  },
  {
   "cell_type": "markdown",
   "id": "fec93866",
   "metadata": {},
   "source": [
    "## XGBoost\n",
    "### Advantages :\n",
    "1) Its advantages of Boosting <br>\n",
    "    a) XGB overcomes overfitting by averaging or combining the results of different trees.<br>\n",
    "    b) It Trains on weak classifiers, hence gives great accuracy\n",
    "\n",
    "2. XGB are extremely flexible and have very high accuracy.\n",
    "\n",
    "3. Minimal preparation of the input data is required. \n",
    "    a. You do not have to scale the data.\n",
    "    b. It also maintains accuracy even when a large proportion of the data are missing.\n",
    "\n",
    "### Disadvantages:\n",
    "1) Complexity <br>\n",
    "</t> a) Modelling and prediction are fast but preparing data when matrix is used is difficult.<br>\n",
    "</t> b) Difficult to understand the relationship between data features as it is a large collection trees.\n",
    "\n",
    "### Control for overfitting:\n",
    "1)Using more trees as defined via the n_estimators. The more trees we try, the less likely it is to overfit.<br>\n",
    "2)Using Lambda to avoid overfitting .<br>\n",
    "3)Using smaller values of max_depth would also reduce overfitting.<br>\n",
    "4)The model performance was evaluated using an external dataset (a dataset that was not used for training)."
   ]
  },
  {
   "cell_type": "markdown",
   "id": "93d16cb4",
   "metadata": {},
   "source": [
    "## Lets work with another type of Algorithm which is XGBoost. It is a combination of ensemble and Boosting to traning the weak learner's."
   ]
  },
  {
   "cell_type": "code",
   "execution_count": 37,
   "id": "e14c1d6d",
   "metadata": {},
   "outputs": [],
   "source": [
    "# Technique 2: Gradient Boosted Trees\n",
    "from xgboost import XGBClassifier\n",
    "model = XGBClassifier(reg_alpha=0, reg_lambda=1,gamma=0,\n",
    "              learning_rate=0.1, max_delta_step=0, max_depth=3)"
   ]
  },
  {
   "cell_type": "code",
   "execution_count": 38,
   "id": "075e7ac2",
   "metadata": {},
   "outputs": [],
   "source": [
    "def compute_classification_error(y_true, y_hat):\n",
    "\n",
    "    accuracy = accuracy_score(y_true, y_hat)\n",
    "\n",
    "    scorecard = pd.DataFrame({'y_hat': y_hat, 'y_true': y_true})\n",
    "    false_positives = scorecard[(scorecard['y_true'] == 0) & (scorecard['y_hat'] == 1)]\n",
    "    false_negatives = scorecard[(scorecard['y_true'] == 1) & (scorecard['y_hat'] == 0)]\n",
    "    type_1_error = len(false_positives)/len(scorecard)\n",
    "    type_2_error = len(false_negatives)/len(scorecard)\n",
    "\n",
    "    print(\"Accuracy: %.2f%%\" % (accuracy * 100.0))\n",
    "    print('Type I error rate: {:.5f}'.format(type_1_error *100.0))\n",
    "    print('Type II error rate: {:.5f}'.format(type_2_error *100.0))"
   ]
  },
  {
   "cell_type": "markdown",
   "id": "e484cab4",
   "metadata": {},
   "source": [
    "## We have got he Best result using XGBoost model as it traing on the weak learners."
   ]
  },
  {
   "cell_type": "code",
   "execution_count": 39,
   "id": "03eb1b1b",
   "metadata": {},
   "outputs": [
    {
     "name": "stdout",
     "output_type": "stream",
     "text": [
      "[01:53:35] WARNING: C:/Users/Administrator/workspace/xgboost-win64_release_1.5.1/src/learner.cc:1115: Starting in XGBoost 1.3.0, the default evaluation metric used with the objective 'multi:softprob' was changed from 'merror' to 'mlogloss'. Explicitly set eval_metric if you'd like to restore the old behavior.\n",
      "Accuracy: 89.27%\n",
      "Type I error rate: 0.00000\n",
      "Type II error rate: 0.00000\n"
     ]
    }
   ],
   "source": [
    "model.fit(X_train, y_train)\n",
    "y_pred = model.predict(X_test)\n",
    "\n",
    "compute_classification_error(y_true=y_test, y_hat=y_pred)"
   ]
  },
  {
   "cell_type": "markdown",
   "id": "4fc841e7",
   "metadata": {},
   "source": [
    "## Here we can see the Top Features Important for Modeling"
   ]
  },
  {
   "cell_type": "code",
   "execution_count": 40,
   "id": "c4075ffd",
   "metadata": {},
   "outputs": [
    {
     "data": {
      "text/html": [
       "<div>\n",
       "<style scoped>\n",
       "    .dataframe tbody tr th:only-of-type {\n",
       "        vertical-align: middle;\n",
       "    }\n",
       "\n",
       "    .dataframe tbody tr th {\n",
       "        vertical-align: top;\n",
       "    }\n",
       "\n",
       "    .dataframe thead th {\n",
       "        text-align: right;\n",
       "    }\n",
       "</style>\n",
       "<table border=\"1\" class=\"dataframe\">\n",
       "  <thead>\n",
       "    <tr style=\"text-align: right;\">\n",
       "      <th></th>\n",
       "      <th>Feature</th>\n",
       "      <th>Feature_importance</th>\n",
       "    </tr>\n",
       "  </thead>\n",
       "  <tbody>\n",
       "    <tr>\n",
       "      <th>75</th>\n",
       "      <td>ent_q_diff_diffs_1_median</td>\n",
       "      <td>0.138810</td>\n",
       "    </tr>\n",
       "    <tr>\n",
       "      <th>191</th>\n",
       "      <td>TB_06</td>\n",
       "      <td>0.063414</td>\n",
       "    </tr>\n",
       "    <tr>\n",
       "      <th>445</th>\n",
       "      <td>Img0.1</td>\n",
       "      <td>0.036175</td>\n",
       "    </tr>\n",
       "    <tr>\n",
       "      <th>369</th>\n",
       "      <td>Offset.1</td>\n",
       "      <td>0.034406</td>\n",
       "    </tr>\n",
       "    <tr>\n",
       "      <th>154</th>\n",
       "      <td>_except_handler3</td>\n",
       "      <td>0.031620</td>\n",
       "    </tr>\n",
       "  </tbody>\n",
       "</table>\n",
       "</div>"
      ],
      "text/plain": [
       "                       Feature  Feature_importance\n",
       "75   ent_q_diff_diffs_1_median            0.138810\n",
       "191                      TB_06            0.063414\n",
       "445                     Img0.1            0.036175\n",
       "369                   Offset.1            0.034406\n",
       "154           _except_handler3            0.031620"
      ]
     },
     "execution_count": 40,
     "metadata": {},
     "output_type": "execute_result"
    }
   ],
   "source": [
    "# feature importance \n",
    "feature_importance = pd.DataFrame({'Feature': X.columns, 'Feature_importance': model.feature_importances_})\n",
    "feature_importance.sort_values('Feature_importance', ascending=False).head()"
   ]
  },
  {
   "cell_type": "markdown",
   "id": "672d630d",
   "metadata": {},
   "source": [
    "# Conclusion"
   ]
  },
  {
   "cell_type": "markdown",
   "id": "0e9bd0bf",
   "metadata": {},
   "source": [
    " 1) We did not perform normalization of the data which could improve the performance of the model as it would make every datapoint have the same scale so each feature is equally important.\n",
    "\n",
    " 2) We did not derive additional features from the existing features which could be more predictive and further improve the model's performance for both Random Forest and XGB.\n",
    "\n",
    " 3) We could have tried additional methods to further reduce the overfitting in the Random Forest model by specifying another tuning parmater, min_samples_leaf and setting a larger value for range of values to be tuned"
   ]
  },
  {
   "cell_type": "markdown",
   "id": "fd8bc7fb",
   "metadata": {},
   "source": [
    " In summary, XGBoost is better at identifying the virus classes as it correctly identified than other models. \n",
    "\n",
    "    I has been also observed that due to more occurrance of '2' and '3' targets most predictions are done for those categories."
   ]
  },
  {
   "cell_type": "code",
   "execution_count": null,
   "id": "a1733d47",
   "metadata": {},
   "outputs": [],
   "source": []
  }
 ],
 "metadata": {
  "kernelspec": {
   "display_name": "Python 3 (ipykernel)",
   "language": "python",
   "name": "python3"
  },
  "language_info": {
   "codemirror_mode": {
    "name": "ipython",
    "version": 3
   },
   "file_extension": ".py",
   "mimetype": "text/x-python",
   "name": "python",
   "nbconvert_exporter": "python",
   "pygments_lexer": "ipython3",
   "version": "3.8.13"
  }
 },
 "nbformat": 4,
 "nbformat_minor": 5
}
